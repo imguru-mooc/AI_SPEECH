{
 "cells": [
  {
   "cell_type": "markdown",
   "metadata": {},
   "source": [
    "### 케라스로 구현한 로지스틱 회귀"
   ]
  },
  {
   "cell_type": "code",
   "execution_count": 1,
   "metadata": {},
   "outputs": [
    {
     "name": "stdout",
     "output_type": "stream",
     "text": [
      "Collecting tensorflow\n",
      "  Downloading tensorflow-2.6.0-cp38-cp38-win_amd64.whl (423.2 MB)\n",
      "Requirement already satisfied: tensorboard~=2.6 in c:\\users\\jikim\\appdata\\roaming\\python\\python38\\site-packages (from tensorflow) (2.6.0)\n",
      "Collecting gast==0.4.0\n",
      "  Using cached gast-0.4.0-py3-none-any.whl (9.8 kB)\n",
      "Collecting keras~=2.6\n",
      "  Downloading keras-2.6.0-py2.py3-none-any.whl (1.3 MB)\n",
      "Requirement already satisfied: typing-extensions~=3.7.4 in c:\\programdata\\anaconda3\\lib\\site-packages (from tensorflow) (3.7.4.3)\n",
      "Requirement already satisfied: wheel~=0.35 in c:\\programdata\\anaconda3\\lib\\site-packages (from tensorflow) (0.36.2)\n",
      "Requirement already satisfied: keras-preprocessing~=1.1.2 in c:\\users\\jikim\\appdata\\roaming\\python\\python38\\site-packages (from tensorflow) (1.1.2)\n",
      "Collecting numpy~=1.19.2\n",
      "  Using cached numpy-1.19.5-cp38-cp38-win_amd64.whl (13.3 MB)\n",
      "Requirement already satisfied: absl-py~=0.10 in c:\\programdata\\anaconda3\\lib\\site-packages (from tensorflow) (0.12.0)\n",
      "Collecting clang~=5.0\n",
      "  Downloading clang-5.0.tar.gz (30 kB)\n",
      "Collecting tensorflow-estimator~=2.6\n",
      "  Downloading tensorflow_estimator-2.6.0-py2.py3-none-any.whl (462 kB)\n",
      "Requirement already satisfied: flatbuffers~=1.12.0 in c:\\users\\jikim\\appdata\\roaming\\python\\python38\\site-packages (from tensorflow) (1.12)\n",
      "Requirement already satisfied: protobuf>=3.9.2 in c:\\programdata\\anaconda3\\lib\\site-packages (from tensorflow) (3.17.3)\n",
      "Requirement already satisfied: opt-einsum~=3.3.0 in c:\\users\\jikim\\appdata\\roaming\\python\\python38\\site-packages (from tensorflow) (3.3.0)\n",
      "Requirement already satisfied: grpcio<2.0,>=1.37.0 in c:\\programdata\\anaconda3\\lib\\site-packages (from tensorflow) (1.39.0)\n",
      "Requirement already satisfied: google-pasta~=0.2 in c:\\users\\jikim\\appdata\\roaming\\python\\python38\\site-packages (from tensorflow) (0.2.0)\n",
      "Requirement already satisfied: six~=1.15.0 in c:\\programdata\\anaconda3\\lib\\site-packages (from tensorflow) (1.15.0)\n",
      "Requirement already satisfied: termcolor~=1.1.0 in c:\\users\\jikim\\appdata\\roaming\\python\\python38\\site-packages (from tensorflow) (1.1.0)\n",
      "Requirement already satisfied: wrapt~=1.12.1 in c:\\programdata\\anaconda3\\lib\\site-packages (from tensorflow) (1.12.1)\n",
      "Requirement already satisfied: astunparse~=1.6.3 in c:\\users\\jikim\\appdata\\roaming\\python\\python38\\site-packages (from tensorflow) (1.6.3)\n",
      "Collecting h5py~=3.1.0\n",
      "  Using cached h5py-3.1.0-cp38-cp38-win_amd64.whl (2.7 MB)\n",
      "Requirement already satisfied: requests<3,>=2.21.0 in c:\\users\\jikim\\appdata\\roaming\\python\\python38\\site-packages (from tensorboard~=2.6->tensorflow) (2.26.0)\n",
      "Requirement already satisfied: google-auth-oauthlib<0.5,>=0.4.1 in c:\\users\\jikim\\appdata\\roaming\\python\\python38\\site-packages (from tensorboard~=2.6->tensorflow) (0.4.5)\n",
      "Requirement already satisfied: setuptools>=41.0.0 in c:\\programdata\\anaconda3\\lib\\site-packages (from tensorboard~=2.6->tensorflow) (52.0.0.post20210125)\n",
      "Requirement already satisfied: google-auth<2,>=1.6.3 in c:\\programdata\\anaconda3\\lib\\site-packages (from tensorboard~=2.6->tensorflow) (1.34.0)\n",
      "Requirement already satisfied: tensorboard-plugin-wit>=1.6.0 in c:\\programdata\\anaconda3\\lib\\site-packages (from tensorboard~=2.6->tensorflow) (1.8.0)\n",
      "Requirement already satisfied: werkzeug>=0.11.15 in c:\\programdata\\anaconda3\\lib\\site-packages (from tensorboard~=2.6->tensorflow) (1.0.1)\n",
      "Requirement already satisfied: markdown>=2.6.8 in c:\\users\\jikim\\appdata\\roaming\\python\\python38\\site-packages (from tensorboard~=2.6->tensorflow) (3.3.4)\n",
      "Requirement already satisfied: tensorboard-data-server<0.7.0,>=0.6.0 in c:\\programdata\\anaconda3\\lib\\site-packages (from tensorboard~=2.6->tensorflow) (0.6.1)\n",
      "Requirement already satisfied: cachetools<5.0,>=2.0.0 in c:\\programdata\\anaconda3\\lib\\site-packages (from google-auth<2,>=1.6.3->tensorboard~=2.6->tensorflow) (4.2.2)\n",
      "Requirement already satisfied: rsa<5,>=3.1.4 in c:\\programdata\\anaconda3\\lib\\site-packages (from google-auth<2,>=1.6.3->tensorboard~=2.6->tensorflow) (4.7.2)\n",
      "Requirement already satisfied: pyasn1-modules>=0.2.1 in c:\\programdata\\anaconda3\\lib\\site-packages (from google-auth<2,>=1.6.3->tensorboard~=2.6->tensorflow) (0.2.8)\n",
      "Requirement already satisfied: requests-oauthlib>=0.7.0 in c:\\programdata\\anaconda3\\lib\\site-packages (from google-auth-oauthlib<0.5,>=0.4.1->tensorboard~=2.6->tensorflow) (1.3.0)\n",
      "Requirement already satisfied: pyasn1<0.5.0,>=0.4.6 in c:\\programdata\\anaconda3\\lib\\site-packages (from pyasn1-modules>=0.2.1->google-auth<2,>=1.6.3->tensorboard~=2.6->tensorflow) (0.4.8)\n",
      "Requirement already satisfied: idna<4,>=2.5 in c:\\users\\jikim\\appdata\\roaming\\python\\python38\\site-packages (from requests<3,>=2.21.0->tensorboard~=2.6->tensorflow) (2.6)\n",
      "Requirement already satisfied: urllib3<1.27,>=1.21.1 in c:\\users\\jikim\\appdata\\roaming\\python\\python38\\site-packages (from requests<3,>=2.21.0->tensorboard~=2.6->tensorflow) (1.22)\n",
      "Requirement already satisfied: certifi>=2017.4.17 in c:\\programdata\\anaconda3\\lib\\site-packages (from requests<3,>=2.21.0->tensorboard~=2.6->tensorflow) (2020.6.20)\n",
      "Requirement already satisfied: charset-normalizer~=2.0.0 in c:\\programdata\\anaconda3\\lib\\site-packages (from requests<3,>=2.21.0->tensorboard~=2.6->tensorflow) (2.0.4)\n",
      "Requirement already satisfied: oauthlib>=3.0.0 in c:\\programdata\\anaconda3\\lib\\site-packages (from requests-oauthlib>=0.7.0->google-auth-oauthlib<0.5,>=0.4.1->tensorboard~=2.6->tensorflow) (3.1.1)\n",
      "Building wheels for collected packages: clang\n",
      "  Building wheel for clang (setup.py): started\n",
      "  Building wheel for clang (setup.py): finished with status 'done'\n",
      "  Created wheel for clang: filename=clang-5.0-py3-none-any.whl size=30702 sha256=9c8920f709dd0eb590f4a6ee03c30142871a39276a80c00336a14f2384f03555\n",
      "  Stored in directory: c:\\users\\jikim\\appdata\\local\\pip\\cache\\wheels\\f1\\60\\77\\22b9b5887bd47801796a856f47650d9789c74dc3161a26d608\n",
      "Successfully built clang\n",
      "Installing collected packages: numpy, tensorflow-estimator, keras, h5py, gast, clang, tensorflow\n",
      "  Attempting uninstall: numpy\n",
      "    Found existing installation: numpy 1.19.0\n",
      "    Uninstalling numpy-1.19.0:\n",
      "      Successfully uninstalled numpy-1.19.0\n",
      "  Rolling back uninstall of numpy\n",
      "  Moving to c:\\users\\jikim\\appdata\\roaming\\python\\python38\\scripts\\f2py.exe\n",
      "   from C:\\Users\\jikim\\AppData\\Local\\Temp\\pip-uninstall-yxblkhy5\\f2py.exe\n",
      "  Moving to c:\\users\\jikim\\appdata\\roaming\\python\\python38\\site-packages\\numpy-1.19.0.dist-info\\\n",
      "   from C:\\Users\\jikim\\AppData\\Roaming\\Python\\Python38\\site-packages\\~umpy-1.19.0.dist-info\n",
      "  Moving to c:\\users\\jikim\\appdata\\roaming\\python\\python38\\site-packages\\numpy\\\n",
      "   from C:\\Users\\jikim\\AppData\\Roaming\\Python\\Python38\\site-packages\\~0mpy\n"
     ]
    },
    {
     "name": "stderr",
     "output_type": "stream",
     "text": [
      "ERROR: Could not install packages due to an OSError: [WinError 5] 액세스가 거부되었습니다: 'C:\\\\ProgramData\\\\Anaconda3\\\\Lib\\\\site-packages\\\\numpy\\\\LICENSE.txt'\n",
      "Consider using the `--user` option or check the permissions.\n",
      "\n"
     ]
    }
   ],
   "source": [
    "!pip install tensorflow"
   ]
  },
  {
   "cell_type": "code",
   "execution_count": 2,
   "metadata": {},
   "outputs": [
    {
     "name": "stdout",
     "output_type": "stream",
     "text": [
      "Epoch 1/200\n",
      "8/8 [==============================] - 1s 2ms/step - loss: 2.5461 - accuracy: 0.2180\n",
      "Epoch 2/200\n",
      "8/8 [==============================] - 0s 2ms/step - loss: 2.3673 - accuracy: 0.2180\n",
      "Epoch 3/200\n",
      "8/8 [==============================] - 0s 2ms/step - loss: 2.2387 - accuracy: 0.2180\n",
      "Epoch 4/200\n",
      "8/8 [==============================] - 0s 2ms/step - loss: 2.1210 - accuracy: 0.2180\n",
      "Epoch 5/200\n",
      "8/8 [==============================] - 0s 2ms/step - loss: 2.0082 - accuracy: 0.2180\n",
      "Epoch 6/200\n",
      "8/8 [==============================] - 0s 2ms/step - loss: 1.8984 - accuracy: 0.2180\n",
      "Epoch 7/200\n",
      "8/8 [==============================] - 0s 6ms/step - loss: 1.7909 - accuracy: 0.2180\n",
      "Epoch 8/200\n",
      "8/8 [==============================] - 0s 5ms/step - loss: 1.6857 - accuracy: 0.2180\n",
      "Epoch 9/200\n",
      "8/8 [==============================] - 0s 2ms/step - loss: 1.5828 - accuracy: 0.2180\n",
      "Epoch 10/200\n",
      "8/8 [==============================] - 0s 2ms/step - loss: 1.4824 - accuracy: 0.2180\n",
      "Epoch 11/200\n",
      "8/8 [==============================] - 0s 2ms/step - loss: 1.3847 - accuracy: 0.2180\n",
      "Epoch 12/200\n",
      "8/8 [==============================] - 0s 2ms/step - loss: 1.2902 - accuracy: 0.2180\n",
      "Epoch 13/200\n",
      "8/8 [==============================] - 0s 2ms/step - loss: 1.1990 - accuracy: 0.2180\n",
      "Epoch 14/200\n",
      "8/8 [==============================] - 0s 2ms/step - loss: 1.1117 - accuracy: 0.2180\n",
      "Epoch 15/200\n",
      "8/8 [==============================] - 0s 2ms/step - loss: 1.0286 - accuracy: 0.2180\n",
      "Epoch 16/200\n",
      "8/8 [==============================] - 0s 2ms/step - loss: 0.9503 - accuracy: 0.5339\n",
      "Epoch 17/200\n",
      "8/8 [==============================] - 0s 2ms/step - loss: 0.8771 - accuracy: 0.5339\n",
      "Epoch 18/200\n",
      "8/8 [==============================] - 0s 2ms/step - loss: 0.8098 - accuracy: 0.5339\n",
      "Epoch 19/200\n",
      "8/8 [==============================] - 0s 2ms/step - loss: 0.7487 - accuracy: 0.5339\n",
      "Epoch 20/200\n",
      "8/8 [==============================] - 0s 2ms/step - loss: 0.6943 - accuracy: 0.5339\n",
      "Epoch 21/200\n",
      "8/8 [==============================] - 0s 2ms/step - loss: 0.6469 - accuracy: 0.5339\n",
      "Epoch 22/200\n",
      "8/8 [==============================] - 0s 2ms/step - loss: 0.6063 - accuracy: 0.7386\n",
      "Epoch 23/200\n",
      "8/8 [==============================] - 0s 2ms/step - loss: 0.5724 - accuracy: 0.7386\n",
      "Epoch 24/200\n",
      "8/8 [==============================] - 0s 2ms/step - loss: 0.5446 - accuracy: 0.7386\n",
      "Epoch 25/200\n",
      "8/8 [==============================] - 0s 2ms/step - loss: 0.5220 - accuracy: 0.7386\n",
      "Epoch 26/200\n",
      "8/8 [==============================] - 0s 2ms/step - loss: 0.5038 - accuracy: 0.7386\n",
      "Epoch 27/200\n",
      "8/8 [==============================] - 0s 2ms/step - loss: 0.4891 - accuracy: 0.7386\n",
      "Epoch 28/200\n",
      "8/8 [==============================] - 0s 2ms/step - loss: 0.4772 - accuracy: 0.7386\n",
      "Epoch 29/200\n",
      "8/8 [==============================] - 0s 2ms/step - loss: 0.4673 - accuracy: 0.8878\n",
      "Epoch 30/200\n",
      "8/8 [==============================] - 0s 2ms/step - loss: 0.4590 - accuracy: 0.8878\n",
      "Epoch 31/200\n",
      "8/8 [==============================] - 0s 2ms/step - loss: 0.4519 - accuracy: 0.8878\n",
      "Epoch 32/200\n",
      "8/8 [==============================] - 0s 2ms/step - loss: 0.4457 - accuracy: 0.8878\n",
      "Epoch 33/200\n",
      "8/8 [==============================] - 0s 2ms/step - loss: 0.4402 - accuracy: 0.8878\n",
      "Epoch 34/200\n",
      "8/8 [==============================] - 0s 2ms/step - loss: 0.4353 - accuracy: 0.8878\n",
      "Epoch 35/200\n",
      "8/8 [==============================] - 0s 2ms/step - loss: 0.4307 - accuracy: 0.8878\n",
      "Epoch 36/200\n",
      "8/8 [==============================] - 0s 2ms/step - loss: 0.4265 - accuracy: 0.8878\n",
      "Epoch 37/200\n",
      "8/8 [==============================] - 0s 2ms/step - loss: 0.4226 - accuracy: 0.8878\n",
      "Epoch 38/200\n",
      "8/8 [==============================] - 0s 2ms/step - loss: 0.4189 - accuracy: 0.8878\n",
      "Epoch 39/200\n",
      "8/8 [==============================] - 0s 2ms/step - loss: 0.4153 - accuracy: 0.8878\n",
      "Epoch 40/200\n",
      "8/8 [==============================] - 0s 2ms/step - loss: 0.4118 - accuracy: 0.8878\n",
      "Epoch 41/200\n",
      "8/8 [==============================] - 0s 2ms/step - loss: 0.4085 - accuracy: 0.8878\n",
      "Epoch 42/200\n",
      "8/8 [==============================] - 0s 2ms/step - loss: 0.4053 - accuracy: 0.8878\n",
      "Epoch 43/200\n",
      "8/8 [==============================] - 0s 2ms/step - loss: 0.4021 - accuracy: 0.8878\n",
      "Epoch 44/200\n",
      "8/8 [==============================] - 0s 2ms/step - loss: 0.3990 - accuracy: 0.8878\n",
      "Epoch 45/200\n",
      "8/8 [==============================] - 0s 2ms/step - loss: 0.3960 - accuracy: 0.8878\n",
      "Epoch 46/200\n",
      "8/8 [==============================] - 0s 2ms/step - loss: 0.3930 - accuracy: 0.8878\n",
      "Epoch 47/200\n",
      "8/8 [==============================] - 0s 2ms/step - loss: 0.3901 - accuracy: 0.8878\n",
      "Epoch 48/200\n",
      "8/8 [==============================] - 0s 2ms/step - loss: 0.3872 - accuracy: 0.8878\n",
      "Epoch 49/200\n",
      "8/8 [==============================] - 0s 2ms/step - loss: 0.3844 - accuracy: 0.8878\n",
      "Epoch 50/200\n",
      "8/8 [==============================] - 0s 2ms/step - loss: 0.3816 - accuracy: 0.8878\n",
      "Epoch 51/200\n",
      "8/8 [==============================] - 0s 2ms/step - loss: 0.3789 - accuracy: 0.8878\n",
      "Epoch 52/200\n",
      "8/8 [==============================] - 0s 2ms/step - loss: 0.3762 - accuracy: 0.8878\n",
      "Epoch 53/200\n",
      "8/8 [==============================] - 0s 2ms/step - loss: 0.3735 - accuracy: 0.8878\n",
      "Epoch 54/200\n",
      "8/8 [==============================] - 0s 2ms/step - loss: 0.3709 - accuracy: 0.8878\n",
      "Epoch 55/200\n",
      "8/8 [==============================] - 0s 2ms/step - loss: 0.3683 - accuracy: 0.8878\n",
      "Epoch 56/200\n",
      "8/8 [==============================] - 0s 2ms/step - loss: 0.3657 - accuracy: 0.8878\n",
      "Epoch 57/200\n",
      "8/8 [==============================] - 0s 2ms/step - loss: 0.3632 - accuracy: 0.8878\n",
      "Epoch 58/200\n",
      "8/8 [==============================] - 0s 2ms/step - loss: 0.3607 - accuracy: 0.8878\n",
      "Epoch 59/200\n",
      "8/8 [==============================] - 0s 2ms/step - loss: 0.3582 - accuracy: 0.8878\n",
      "Epoch 60/200\n",
      "8/8 [==============================] - 0s 2ms/step - loss: 0.3558 - accuracy: 0.8878\n",
      "Epoch 61/200\n",
      "8/8 [==============================] - 0s 2ms/step - loss: 0.3534 - accuracy: 0.8878\n",
      "Epoch 62/200\n",
      "8/8 [==============================] - 0s 2ms/step - loss: 0.3510 - accuracy: 0.8878\n",
      "Epoch 63/200\n",
      "8/8 [==============================] - 0s 2ms/step - loss: 0.3487 - accuracy: 0.8878\n",
      "Epoch 64/200\n",
      "8/8 [==============================] - 0s 2ms/step - loss: 0.3463 - accuracy: 0.8878\n",
      "Epoch 65/200\n",
      "8/8 [==============================] - 0s 2ms/step - loss: 0.3441 - accuracy: 0.8878\n",
      "Epoch 66/200\n",
      "8/8 [==============================] - 0s 2ms/step - loss: 0.3418 - accuracy: 0.8878\n",
      "Epoch 67/200\n",
      "8/8 [==============================] - 0s 2ms/step - loss: 0.3396 - accuracy: 0.8878\n",
      "Epoch 68/200\n",
      "8/8 [==============================] - 0s 2ms/step - loss: 0.3374 - accuracy: 0.8878\n",
      "Epoch 69/200\n",
      "8/8 [==============================] - 0s 2ms/step - loss: 0.3352 - accuracy: 0.8878\n",
      "Epoch 70/200\n",
      "8/8 [==============================] - 0s 2ms/step - loss: 0.3330 - accuracy: 0.8878\n",
      "Epoch 71/200\n",
      "8/8 [==============================] - 0s 2ms/step - loss: 0.3309 - accuracy: 0.8878\n",
      "Epoch 72/200\n",
      "8/8 [==============================] - 0s 2ms/step - loss: 0.3288 - accuracy: 0.8878\n",
      "Epoch 73/200\n",
      "8/8 [==============================] - 0s 2ms/step - loss: 0.3267 - accuracy: 0.8878\n",
      "Epoch 74/200\n",
      "8/8 [==============================] - 0s 2ms/step - loss: 0.3247 - accuracy: 0.8878\n",
      "Epoch 75/200\n",
      "8/8 [==============================] - 0s 2ms/step - loss: 0.3227 - accuracy: 0.8878\n",
      "Epoch 76/200\n",
      "8/8 [==============================] - 0s 2ms/step - loss: 0.3207 - accuracy: 0.8878\n",
      "Epoch 77/200\n",
      "8/8 [==============================] - 0s 2ms/step - loss: 0.3187 - accuracy: 0.8878\n",
      "Epoch 78/200\n",
      "8/8 [==============================] - 0s 2ms/step - loss: 0.3168 - accuracy: 0.8878\n",
      "Epoch 79/200\n",
      "8/8 [==============================] - 0s 2ms/step - loss: 0.3148 - accuracy: 0.8878\n",
      "Epoch 80/200\n",
      "8/8 [==============================] - 0s 2ms/step - loss: 0.3129 - accuracy: 0.8878\n",
      "Epoch 81/200\n",
      "8/8 [==============================] - 0s 2ms/step - loss: 0.3111 - accuracy: 0.8878\n",
      "Epoch 82/200\n",
      "8/8 [==============================] - 0s 2ms/step - loss: 0.3092 - accuracy: 0.8878\n",
      "Epoch 83/200\n",
      "8/8 [==============================] - 0s 2ms/step - loss: 0.3074 - accuracy: 0.8878\n",
      "Epoch 84/200\n"
     ]
    },
    {
     "name": "stdout",
     "output_type": "stream",
     "text": [
      "8/8 [==============================] - 0s 2ms/step - loss: 0.3056 - accuracy: 0.8878\n",
      "Epoch 85/200\n",
      "8/8 [==============================] - 0s 2ms/step - loss: 0.3038 - accuracy: 0.8878\n",
      "Epoch 86/200\n",
      "8/8 [==============================] - 0s 2ms/step - loss: 0.3020 - accuracy: 0.8878\n",
      "Epoch 87/200\n",
      "8/8 [==============================] - 0s 2ms/step - loss: 0.3002 - accuracy: 0.8878\n",
      "Epoch 88/200\n",
      "8/8 [==============================] - 0s 2ms/step - loss: 0.2985 - accuracy: 0.8878\n",
      "Epoch 89/200\n",
      "8/8 [==============================] - 0s 2ms/step - loss: 0.2968 - accuracy: 1.0000\n",
      "Epoch 90/200\n",
      "8/8 [==============================] - 0s 2ms/step - loss: 0.2951 - accuracy: 1.0000\n",
      "Epoch 91/200\n",
      "8/8 [==============================] - 0s 2ms/step - loss: 0.2934 - accuracy: 1.0000\n",
      "Epoch 92/200\n",
      "8/8 [==============================] - 0s 2ms/step - loss: 0.2918 - accuracy: 1.0000\n",
      "Epoch 93/200\n",
      "8/8 [==============================] - 0s 2ms/step - loss: 0.2902 - accuracy: 1.0000\n",
      "Epoch 94/200\n",
      "8/8 [==============================] - 0s 2ms/step - loss: 0.2886 - accuracy: 1.0000\n",
      "Epoch 95/200\n",
      "8/8 [==============================] - 0s 2ms/step - loss: 0.2870 - accuracy: 1.0000\n",
      "Epoch 96/200\n",
      "8/8 [==============================] - 0s 2ms/step - loss: 0.2854 - accuracy: 1.0000\n",
      "Epoch 97/200\n",
      "8/8 [==============================] - 0s 2ms/step - loss: 0.2838 - accuracy: 1.0000\n",
      "Epoch 98/200\n",
      "8/8 [==============================] - 0s 2ms/step - loss: 0.2823 - accuracy: 1.0000\n",
      "Epoch 99/200\n",
      "8/8 [==============================] - 0s 2ms/step - loss: 0.2808 - accuracy: 1.0000\n",
      "Epoch 100/200\n",
      "8/8 [==============================] - 0s 2ms/step - loss: 0.2793 - accuracy: 1.0000\n",
      "Epoch 101/200\n",
      "8/8 [==============================] - 0s 2ms/step - loss: 0.2778 - accuracy: 1.0000\n",
      "Epoch 102/200\n",
      "8/8 [==============================] - 0s 2ms/step - loss: 0.2763 - accuracy: 1.0000\n",
      "Epoch 103/200\n",
      "8/8 [==============================] - 0s 2ms/step - loss: 0.2748 - accuracy: 1.0000\n",
      "Epoch 104/200\n",
      "8/8 [==============================] - 0s 2ms/step - loss: 0.2734 - accuracy: 1.0000\n",
      "Epoch 105/200\n",
      "8/8 [==============================] - 0s 2ms/step - loss: 0.2720 - accuracy: 1.0000\n",
      "Epoch 106/200\n",
      "8/8 [==============================] - 0s 2ms/step - loss: 0.2706 - accuracy: 1.0000\n",
      "Epoch 107/200\n",
      "8/8 [==============================] - 0s 2ms/step - loss: 0.2692 - accuracy: 1.0000\n",
      "Epoch 108/200\n",
      "8/8 [==============================] - 0s 2ms/step - loss: 0.2678 - accuracy: 1.0000\n",
      "Epoch 109/200\n",
      "8/8 [==============================] - 0s 2ms/step - loss: 0.2664 - accuracy: 1.0000\n",
      "Epoch 110/200\n",
      "8/8 [==============================] - 0s 2ms/step - loss: 0.2651 - accuracy: 1.0000\n",
      "Epoch 111/200\n",
      "8/8 [==============================] - 0s 2ms/step - loss: 0.2638 - accuracy: 1.0000\n",
      "Epoch 112/200\n",
      "8/8 [==============================] - 0s 2ms/step - loss: 0.2625 - accuracy: 1.0000\n",
      "Epoch 113/200\n",
      "8/8 [==============================] - 0s 2ms/step - loss: 0.2612 - accuracy: 1.0000\n",
      "Epoch 114/200\n",
      "8/8 [==============================] - 0s 2ms/step - loss: 0.2599 - accuracy: 1.0000\n",
      "Epoch 115/200\n",
      "8/8 [==============================] - 0s 2ms/step - loss: 0.2586 - accuracy: 1.0000\n",
      "Epoch 116/200\n",
      "8/8 [==============================] - 0s 2ms/step - loss: 0.2573 - accuracy: 1.0000\n",
      "Epoch 117/200\n",
      "8/8 [==============================] - 0s 2ms/step - loss: 0.2561 - accuracy: 1.0000\n",
      "Epoch 118/200\n",
      "8/8 [==============================] - 0s 2ms/step - loss: 0.2548 - accuracy: 1.0000\n",
      "Epoch 119/200\n",
      "8/8 [==============================] - 0s 2ms/step - loss: 0.2536 - accuracy: 1.0000\n",
      "Epoch 120/200\n",
      "8/8 [==============================] - 0s 2ms/step - loss: 0.2524 - accuracy: 1.0000\n",
      "Epoch 121/200\n",
      "8/8 [==============================] - 0s 2ms/step - loss: 0.2512 - accuracy: 1.0000\n",
      "Epoch 122/200\n",
      "8/8 [==============================] - 0s 2ms/step - loss: 0.2500 - accuracy: 1.0000\n",
      "Epoch 123/200\n",
      "8/8 [==============================] - 0s 2ms/step - loss: 0.2489 - accuracy: 1.0000\n",
      "Epoch 124/200\n",
      "8/8 [==============================] - 0s 2ms/step - loss: 0.2477 - accuracy: 1.0000\n",
      "Epoch 125/200\n",
      "8/8 [==============================] - 0s 2ms/step - loss: 0.2466 - accuracy: 1.0000\n",
      "Epoch 126/200\n",
      "8/8 [==============================] - 0s 2ms/step - loss: 0.2454 - accuracy: 1.0000\n",
      "Epoch 127/200\n",
      "8/8 [==============================] - 0s 2ms/step - loss: 0.2443 - accuracy: 1.0000\n",
      "Epoch 128/200\n",
      "8/8 [==============================] - 0s 2ms/step - loss: 0.2432 - accuracy: 1.0000\n",
      "Epoch 129/200\n",
      "8/8 [==============================] - 0s 2ms/step - loss: 0.2421 - accuracy: 1.0000\n",
      "Epoch 130/200\n",
      "8/8 [==============================] - 0s 2ms/step - loss: 0.2410 - accuracy: 1.0000\n",
      "Epoch 131/200\n",
      "8/8 [==============================] - 0s 2ms/step - loss: 0.2399 - accuracy: 1.0000\n",
      "Epoch 132/200\n",
      "8/8 [==============================] - 0s 2ms/step - loss: 0.2389 - accuracy: 1.0000\n",
      "Epoch 133/200\n",
      "8/8 [==============================] - 0s 2ms/step - loss: 0.2378 - accuracy: 1.0000\n",
      "Epoch 134/200\n",
      "8/8 [==============================] - 0s 2ms/step - loss: 0.2368 - accuracy: 1.0000\n",
      "Epoch 135/200\n",
      "8/8 [==============================] - 0s 2ms/step - loss: 0.2357 - accuracy: 1.0000\n",
      "Epoch 136/200\n",
      "8/8 [==============================] - 0s 2ms/step - loss: 0.2347 - accuracy: 1.0000\n",
      "Epoch 137/200\n",
      "8/8 [==============================] - 0s 2ms/step - loss: 0.2337 - accuracy: 1.0000\n",
      "Epoch 138/200\n",
      "8/8 [==============================] - 0s 2ms/step - loss: 0.2327 - accuracy: 1.0000\n",
      "Epoch 139/200\n",
      "8/8 [==============================] - 0s 2ms/step - loss: 0.2317 - accuracy: 1.0000\n",
      "Epoch 140/200\n",
      "8/8 [==============================] - 0s 2ms/step - loss: 0.2307 - accuracy: 1.0000\n",
      "Epoch 141/200\n",
      "8/8 [==============================] - 0s 2ms/step - loss: 0.2297 - accuracy: 1.0000\n",
      "Epoch 142/200\n",
      "8/8 [==============================] - 0s 2ms/step - loss: 0.2288 - accuracy: 1.0000\n",
      "Epoch 143/200\n",
      "8/8 [==============================] - 0s 2ms/step - loss: 0.2278 - accuracy: 1.0000\n",
      "Epoch 144/200\n",
      "8/8 [==============================] - 0s 2ms/step - loss: 0.2269 - accuracy: 1.0000\n",
      "Epoch 145/200\n",
      "8/8 [==============================] - 0s 2ms/step - loss: 0.2259 - accuracy: 1.0000\n",
      "Epoch 146/200\n",
      "8/8 [==============================] - 0s 2ms/step - loss: 0.2250 - accuracy: 1.0000\n",
      "Epoch 147/200\n",
      "8/8 [==============================] - 0s 2ms/step - loss: 0.2241 - accuracy: 1.0000\n",
      "Epoch 148/200\n",
      "8/8 [==============================] - 0s 2ms/step - loss: 0.2232 - accuracy: 1.0000\n",
      "Epoch 149/200\n",
      "8/8 [==============================] - 0s 2ms/step - loss: 0.2223 - accuracy: 1.0000\n",
      "Epoch 150/200\n",
      "8/8 [==============================] - 0s 2ms/step - loss: 0.2214 - accuracy: 1.0000\n",
      "Epoch 151/200\n",
      "8/8 [==============================] - 0s 2ms/step - loss: 0.2205 - accuracy: 1.0000\n",
      "Epoch 152/200\n",
      "8/8 [==============================] - 0s 2ms/step - loss: 0.2196 - accuracy: 1.0000\n",
      "Epoch 153/200\n",
      "8/8 [==============================] - 0s 2ms/step - loss: 0.2187 - accuracy: 1.0000\n",
      "Epoch 154/200\n",
      "8/8 [==============================] - 0s 2ms/step - loss: 0.2179 - accuracy: 1.0000\n",
      "Epoch 155/200\n",
      "8/8 [==============================] - 0s 2ms/step - loss: 0.2170 - accuracy: 1.0000\n",
      "Epoch 156/200\n",
      "8/8 [==============================] - 0s 2ms/step - loss: 0.2162 - accuracy: 1.0000\n",
      "Epoch 157/200\n",
      "8/8 [==============================] - 0s 2ms/step - loss: 0.2154 - accuracy: 1.0000\n",
      "Epoch 158/200\n",
      "8/8 [==============================] - 0s 2ms/step - loss: 0.2145 - accuracy: 1.0000\n",
      "Epoch 159/200\n",
      "8/8 [==============================] - 0s 2ms/step - loss: 0.2137 - accuracy: 1.0000\n",
      "Epoch 160/200\n",
      "8/8 [==============================] - 0s 2ms/step - loss: 0.2129 - accuracy: 1.0000\n",
      "Epoch 161/200\n",
      "8/8 [==============================] - 0s 2ms/step - loss: 0.2121 - accuracy: 1.0000\n",
      "Epoch 162/200\n",
      "8/8 [==============================] - 0s 2ms/step - loss: 0.2113 - accuracy: 1.0000\n",
      "Epoch 163/200\n",
      "8/8 [==============================] - 0s 2ms/step - loss: 0.2105 - accuracy: 1.0000\n",
      "Epoch 164/200\n",
      "8/8 [==============================] - 0s 2ms/step - loss: 0.2097 - accuracy: 1.0000\n",
      "Epoch 165/200\n",
      "8/8 [==============================] - 0s 2ms/step - loss: 0.2089 - accuracy: 1.0000\n",
      "Epoch 166/200\n",
      "8/8 [==============================] - 0s 2ms/step - loss: 0.2082 - accuracy: 1.0000\n",
      "Epoch 167/200\n"
     ]
    },
    {
     "name": "stdout",
     "output_type": "stream",
     "text": [
      "8/8 [==============================] - 0s 2ms/step - loss: 0.2074 - accuracy: 1.0000\n",
      "Epoch 168/200\n",
      "8/8 [==============================] - 0s 2ms/step - loss: 0.2066 - accuracy: 1.0000\n",
      "Epoch 169/200\n",
      "8/8 [==============================] - 0s 2ms/step - loss: 0.2059 - accuracy: 1.0000\n",
      "Epoch 170/200\n",
      "8/8 [==============================] - 0s 2ms/step - loss: 0.2051 - accuracy: 1.0000\n",
      "Epoch 171/200\n",
      "8/8 [==============================] - 0s 2ms/step - loss: 0.2044 - accuracy: 1.0000\n",
      "Epoch 172/200\n",
      "8/8 [==============================] - 0s 2ms/step - loss: 0.2037 - accuracy: 1.0000\n",
      "Epoch 173/200\n",
      "8/8 [==============================] - 0s 2ms/step - loss: 0.2029 - accuracy: 1.0000\n",
      "Epoch 174/200\n",
      "8/8 [==============================] - 0s 2ms/step - loss: 0.2022 - accuracy: 1.0000\n",
      "Epoch 175/200\n",
      "8/8 [==============================] - 0s 2ms/step - loss: 0.2015 - accuracy: 1.0000\n",
      "Epoch 176/200\n",
      "8/8 [==============================] - 0s 2ms/step - loss: 0.2008 - accuracy: 1.0000\n",
      "Epoch 177/200\n",
      "8/8 [==============================] - 0s 2ms/step - loss: 0.2001 - accuracy: 1.0000\n",
      "Epoch 178/200\n",
      "8/8 [==============================] - 0s 2ms/step - loss: 0.1994 - accuracy: 1.0000\n",
      "Epoch 179/200\n",
      "8/8 [==============================] - 0s 2ms/step - loss: 0.1987 - accuracy: 1.0000\n",
      "Epoch 180/200\n",
      "8/8 [==============================] - 0s 2ms/step - loss: 0.1980 - accuracy: 1.0000\n",
      "Epoch 181/200\n",
      "8/8 [==============================] - 0s 2ms/step - loss: 0.1974 - accuracy: 1.0000\n",
      "Epoch 182/200\n",
      "8/8 [==============================] - 0s 2ms/step - loss: 0.1967 - accuracy: 1.0000\n",
      "Epoch 183/200\n",
      "8/8 [==============================] - 0s 2ms/step - loss: 0.1960 - accuracy: 1.0000\n",
      "Epoch 184/200\n",
      "8/8 [==============================] - 0s 2ms/step - loss: 0.1954 - accuracy: 1.0000\n",
      "Epoch 185/200\n",
      "8/8 [==============================] - 0s 2ms/step - loss: 0.1947 - accuracy: 1.0000\n",
      "Epoch 186/200\n",
      "8/8 [==============================] - 0s 2ms/step - loss: 0.1941 - accuracy: 1.0000\n",
      "Epoch 187/200\n",
      "8/8 [==============================] - 0s 2ms/step - loss: 0.1934 - accuracy: 1.0000\n",
      "Epoch 188/200\n",
      "8/8 [==============================] - 0s 2ms/step - loss: 0.1928 - accuracy: 1.0000\n",
      "Epoch 189/200\n",
      "8/8 [==============================] - 0s 2ms/step - loss: 0.1922 - accuracy: 1.0000\n",
      "Epoch 190/200\n",
      "8/8 [==============================] - 0s 2ms/step - loss: 0.1915 - accuracy: 1.0000\n",
      "Epoch 191/200\n",
      "8/8 [==============================] - 0s 2ms/step - loss: 0.1909 - accuracy: 1.0000\n",
      "Epoch 192/200\n",
      "8/8 [==============================] - 0s 2ms/step - loss: 0.1903 - accuracy: 1.0000\n",
      "Epoch 193/200\n",
      "8/8 [==============================] - 0s 2ms/step - loss: 0.1897 - accuracy: 1.0000\n",
      "Epoch 194/200\n",
      "8/8 [==============================] - 0s 2ms/step - loss: 0.1891 - accuracy: 1.0000\n",
      "Epoch 195/200\n",
      "8/8 [==============================] - 0s 2ms/step - loss: 0.1885 - accuracy: 1.0000\n",
      "Epoch 196/200\n",
      "8/8 [==============================] - 0s 2ms/step - loss: 0.1879 - accuracy: 1.0000\n",
      "Epoch 197/200\n",
      "8/8 [==============================] - 0s 2ms/step - loss: 0.1873 - accuracy: 1.0000\n",
      "Epoch 198/200\n",
      "8/8 [==============================] - 0s 2ms/step - loss: 0.1867 - accuracy: 1.0000\n",
      "Epoch 199/200\n",
      "8/8 [==============================] - 0s 2ms/step - loss: 0.1861 - accuracy: 1.0000\n",
      "Epoch 200/200\n",
      "8/8 [==============================] - 0s 2ms/step - loss: 0.1855 - accuracy: 1.0000\n",
      "[1 2 3 4 5 6 7 8]\n",
      "[[0.03803295]\n",
      " [0.09755936]\n",
      " [0.2281554 ]\n",
      " [0.44698238]\n",
      " [0.68847835]\n",
      " [0.85801506]\n",
      " [0.9429339 ]\n",
      " [0.97834593]]\n"
     ]
    },
    {
     "data": {
      "image/png": "[encoded data removed]",
      "text/plain": [
       "<Figure size 432x288 with 1 Axes>"
      ]
     },
     "metadata": {
      "needs_background": "light"
     },
     "output_type": "display_data"
    }
   ],
   "source": [
    "from tensorflow.keras.models import Sequential # 케라스의 Sequential()을 임포트\n",
    "from tensorflow.keras.layers import Dense      # 케라스의 Dense()를 임포트\n",
    "from tensorflow.keras import optimizers        # 케라스의 옵티마이저를 임포트\n",
    "import numpy as np # Numpy를 임포트\n",
    "import matplotlib.pyplot as plt\n",
    "\n",
    "X=np.array([1,2,3,4,5,6,7,8]) \n",
    "Y=np.array([0,0,0,0,1,1,1,1]) \n",
    "\n",
    "model=Sequential()\n",
    "model.add(Dense(1, input_dim=1, activation='sigmoid'))\n",
    "RMSprop=optimizers.RMSprop(lr=0.01)\n",
    "model.compile(optimizer=RMSprop ,loss='binary_crossentropy',metrics=['accuracy'])\n",
    "model.fit(X,Y, batch_size=1, epochs=200, shuffle=False)\n",
    "\n",
    "plt.plot(X, Y, 'rx')\n",
    "print(X)\n",
    "print(model.predict(X))\n",
    "plt.show()"
   ]
  },
  {
   "cell_type": "code",
   "execution_count": 3,
   "metadata": {},
   "outputs": [
    {
     "name": "stdout",
     "output_type": "stream",
     "text": [
      "1 : 양성종양\n",
      "2 : 양성종양\n",
      "3 : 양성종양\n",
      "4 : 양성종양\n",
      "5 : 양성종양\n",
      "6 : 양성종양\n",
      "7 : 악성종양\n",
      "8 : 악성종양\n",
      "12 : 악성종양\n"
     ]
    },
    {
     "data": {
      "image/png": "[encoded data removed]",
      "text/plain": [
       "<Figure size 432x288 with 1 Axes>"
      ]
     },
     "metadata": {
      "needs_background": "light"
     },
     "output_type": "display_data"
    }
   ],
   "source": [
    "import matplotlib.pyplot as  plt\n",
    "import numpy as np\n",
    "\n",
    "class Neuron:\n",
    "    \n",
    "    def __init__(self):\n",
    "        self.w = 1.0     # 가중치를 초기화합니다\n",
    "        self.b = 1.0     # 절편을 초기화합니다\n",
    "    \n",
    "    def forpass(self, x):\n",
    "        y_hat = x * self.w + self.b       # 직선 방정식을 계산합니다\n",
    "        return y_hat\n",
    "    \n",
    "    def backprop(self, x, err):\n",
    "        w_grad = x * err    # 가중치에 대한 그래디언트를 계산합니다\n",
    "        b_grad = 1 * err    # 절편에 대한 그래디언트를 계산합니다\n",
    "        return w_grad, b_grad\n",
    "\n",
    "    def activation(self, z):\n",
    "        return z\n",
    "    \n",
    "    def fit(self, x, y, epochs=200, rate=0.01):\n",
    "        for i in range(epochs):           # 에포크만큼 반복합니다\n",
    "            for x_i, y_i in zip(x, y):    # 모든 샘플에 대해 반복합니다\n",
    "                y_hat = self.forpass(x_i) # 정방향 계산\n",
    "                y_hat = self.activation(y_hat)\n",
    "                err = y_hat - y_i      # 오차 계산\n",
    "                w_grad, b_grad = self.backprop(x_i, err)  # 역방향 계산\n",
    "                self.w -= rate*w_grad          # 가중치 업데이트\n",
    "                self.b -= rate*b_grad          # 절편 업데이트\n",
    "\n",
    "# x = np.array([1,2,3,4,5,6,7,8])\n",
    "# y = np.array([0,0,0,0,1,1,1,1])\n",
    "x = np.array([1,2,3,4,5,6,7,8,12])\n",
    "y = np.array([0,0,0,0,1,1,1,1,1])                \n",
    "\n",
    "neuron = Neuron()\n",
    "neuron.fit(x, y)\n",
    "\n",
    "for xi, yi in zip(x,y):\n",
    "    plt.plot(xi,yi,\"rx\")\n",
    "\n",
    "y_temp = []\n",
    "for x_i in x:\n",
    "    y_hat = neuron.forpass(x_i)\n",
    "    if( y_hat >= 0.5 ):\n",
    "        print(\"%d : 악성종양\"%x_i)\n",
    "    else:\n",
    "        print(\"%d : 양성종양\"%x_i)\n",
    "    y_temp.append(y_hat)\n",
    "\n",
    "plt.plot(x,y_temp)\n",
    "plt.show()"
   ]
  },
  {
   "cell_type": "markdown",
   "metadata": {},
   "source": [
    "### 오즈비 그래프"
   ]
  },
  {
   "cell_type": "code",
   "execution_count": 4,
   "metadata": {},
   "outputs": [
    {
     "name": "stdout",
     "output_type": "stream",
     "text": [
      "<class 'numpy.ndarray'>\n",
      "1\n",
      "(100,)\n",
      "[0.   0.01 0.02 0.03 0.04 0.05 0.06 0.07 0.08 0.09 0.1  0.11 0.12 0.13\n",
      " 0.14 0.15 0.16 0.17 0.18 0.19 0.2  0.21 0.22 0.23 0.24 0.25 0.26 0.27\n",
      " 0.28 0.29 0.3  0.31 0.32 0.33 0.34 0.35 0.36 0.37 0.38 0.39 0.4  0.41\n",
      " 0.42 0.43 0.44 0.45 0.46 0.47 0.48 0.49 0.5  0.51 0.52 0.53 0.54 0.55\n",
      " 0.56 0.57 0.58 0.59 0.6  0.61 0.62 0.63 0.64 0.65 0.66 0.67 0.68 0.69\n",
      " 0.7  0.71 0.72 0.73 0.74 0.75 0.76 0.77 0.78 0.79 0.8  0.81 0.82 0.83\n",
      " 0.84 0.85 0.86 0.87 0.88 0.89 0.9  0.91 0.92 0.93 0.94 0.95 0.96 0.97\n",
      " 0.98 0.99]\n"
     ]
    }
   ],
   "source": [
    "import numpy as np\n",
    "probs = np.arange(0, 1, 0.01)\n",
    "print(type(probs))\n",
    "print(probs.ndim)\n",
    "print(probs.shape)\n",
    "print(probs)"
   ]
  },
  {
   "cell_type": "code",
   "execution_count": 5,
   "metadata": {},
   "outputs": [
    {
     "data": {
      "image/png": "[encoded data removed]",
      "text/plain": [
       "<Figure size 432x288 with 1 Axes>"
      ]
     },
     "metadata": {
      "needs_background": "light"
     },
     "output_type": "display_data"
    }
   ],
   "source": [
    "import numpy as np\n",
    "import matplotlib.pyplot as plt\n",
    "np.random.seed(42)\n",
    "probs = np.arange(0, 1, 0.01)\n",
    "odds = [p/(1-p) for p in probs]\n",
    "plt.plot(probs, odds)\n",
    "plt.xlabel('p')\n",
    "plt.ylabel('p/(1-p)')\n",
    "plt.show()"
   ]
  },
  {
   "cell_type": "markdown",
   "metadata": {},
   "source": [
    "### 로짓 그래프"
   ]
  },
  {
   "cell_type": "code",
   "execution_count": 6,
   "metadata": {},
   "outputs": [
    {
     "data": {
      "image/png": "[encoded data removed]",
      "text/plain": [
       "<Figure size 432x288 with 1 Axes>"
      ]
     },
     "metadata": {
      "needs_background": "light"
     },
     "output_type": "display_data"
    }
   ],
   "source": [
    "probs  = np.arange(0.001, 0.999, 0.001)\n",
    "logit = [np.log(p/(1-p)) for p in probs]\n",
    "plt.plot(probs, logit)\n",
    "plt.xlabel('p')\n",
    "plt.ylabel('log(p/(1-p))')\n",
    "plt.show()"
   ]
  },
  {
   "cell_type": "markdown",
   "metadata": {},
   "source": [
    "### 시그모이드 그래프"
   ]
  },
  {
   "cell_type": "code",
   "execution_count": 7,
   "metadata": {
    "scrolled": true
   },
   "outputs": [
    {
     "data": {
      "image/png": "[encoded data removed]",
      "text/plain": [
       "<Figure size 432x288 with 1 Axes>"
      ]
     },
     "metadata": {
      "needs_background": "light"
     },
     "output_type": "display_data"
    }
   ],
   "source": [
    "zs = np.arange(-10., 10., 0.1)\n",
    "gs = [1/(1+np.exp(-z)) for z in zs]\n",
    "plt.plot(zs, gs)\n",
    "plt.xlabel('z')\n",
    "plt.ylabel('1/(1+e^-z)')\n",
    "plt.show()"
   ]
  },
  {
   "cell_type": "markdown",
   "metadata": {},
   "source": [
    "### 로지스틱 회귀 구현"
   ]
  },
  {
   "cell_type": "code",
   "execution_count": 8,
   "metadata": {},
   "outputs": [
    {
     "name": "stdout",
     "output_type": "stream",
     "text": [
      "1 : 양성종양\n",
      "2 : 양성종양\n",
      "3 : 양성종양\n",
      "4 : 양성종양\n",
      "5 : 악성종양\n",
      "6 : 악성종양\n",
      "7 : 악성종양\n",
      "8 : 악성종양\n",
      "20 : 악성종양\n"
     ]
    },
    {
     "data": {
      "image/png": "[encoded data removed]",
      "text/plain": [
       "<Figure size 432x288 with 1 Axes>"
      ]
     },
     "metadata": {
      "needs_background": "light"
     },
     "output_type": "display_data"
    }
   ],
   "source": [
    "import matplotlib.pyplot as  plt\n",
    "import numpy as np\n",
    "\n",
    "class Neuron:\n",
    "    \n",
    "    def __init__(self):\n",
    "        self.w = 1.0     # 가중치를 초기화합니다\n",
    "        self.b = 1.0     # 절편을 초기화합니다\n",
    "    \n",
    "    def forpass(self, x):\n",
    "        z = x * self.w + self.b       # 직선 방정식을 계산합니다\n",
    "        return z\n",
    "    \n",
    "    def backprop(self, x, err):\n",
    "        w_grad = x * err    # 가중치에 대한 그래디언트를 계산합니다\n",
    "        b_grad = 1 * err    # 절편에 대한 그래디언트를 계산합니다\n",
    "        return w_grad, b_grad\n",
    "\n",
    "    def activation(self, z):\n",
    "#         a = z;\n",
    "        a = 1/(1+np.exp(-z))\n",
    "        return a\n",
    "    \n",
    "    def fit(self, x, y, epochs=200):\n",
    "        for i in range(epochs):           # 에포크만큼 반복합니다\n",
    "            for x_i, y_i in zip(x, y):    # 모든 샘플에 대해 반복합니다\n",
    "                z = self.forpass(x_i) # 정방향 계산\n",
    "                a = self.activation(z)\n",
    "                err = a - y_i       # 오차 계산\n",
    "                w_grad, b_grad = self.backprop(x_i, err)  # 역방향 계산\n",
    "                self.w -= 0.01*w_grad          # 가중치 업데이트\n",
    "                self.b -= 0.01*b_grad          # 절편 업데이트\n",
    "\n",
    "# x = np.array([1,2,3,4,5,6,7,8])\n",
    "# y = np.array([0,0,0,0,1,1,1,1])\n",
    "x = np.array([1,2,3,4,5,6,7,8,20])\n",
    "y = np.array([0,0,0,0,1,1,1,1,1])                \n",
    "\n",
    "neuron = Neuron()\n",
    "neuron.fit(x, y, epochs=1000)\n",
    "\n",
    "for xi, yi in zip(x,y):\n",
    "    plt.plot(xi,yi,\"rx\")\n",
    "\n",
    "for x_i in x:\n",
    "    y_hat = neuron.forpass(x_i)\n",
    "    a = neuron.activation(y_hat)\n",
    "    if( a >= 0.5 ):\n",
    "        print(\"%d : 악성종양\"%x_i)\n",
    "    else:\n",
    "        print(\"%d : 양성종양\"%x_i)\n",
    "    y_temp.append(a)\n",
    "\n",
    "x = np.arange(0,x[-1],0.1)\n",
    "y_temp = []\n",
    "  \n",
    "for i, x_i in enumerate(x):\n",
    "    y_hat = neuron.forpass(x_i)\n",
    "    a = neuron.activation(y_hat)\n",
    "    y_temp.append(a)    \n",
    "    \n",
    "plt.plot(x,y_temp)\n",
    "plt.show()"
   ]
  },
  {
   "cell_type": "markdown",
   "metadata": {},
   "source": [
    "### 로그 그래프 "
   ]
  },
  {
   "cell_type": "code",
   "execution_count": 9,
   "metadata": {},
   "outputs": [
    {
     "name": "stdout",
     "output_type": "stream",
     "text": [
      "[ 0.          1.11111111  2.22222222  3.33333333  4.44444444  5.55555556\n",
      "  6.66666667  7.77777778  8.88888889 10.        ]\n",
      "[0 1 2 3 4 5 6 7 8 9]\n"
     ]
    }
   ],
   "source": [
    "a = np.linspace(0, 10, 10)\n",
    "print(a)\n",
    "\n",
    "b = np.arange(0,10,1)\n",
    "print(b)"
   ]
  },
  {
   "cell_type": "code",
   "execution_count": 10,
   "metadata": {},
   "outputs": [
    {
     "data": {
      "image/png": "[encoded data removed]",
      "text/plain": [
       "<Figure size 432x288 with 1 Axes>"
      ]
     },
     "metadata": {
      "needs_background": "light"
     },
     "output_type": "display_data"
    }
   ],
   "source": [
    "zs = np.arange(0.01, 10., 0.01)\n",
    "gs = [np.log(z) for z in zs]\n",
    "# print(gs)\n",
    "plt.plot(zs, gs)\n",
    "plt.xlim(0,1)\n",
    "plt.ylim(-5,0)\n",
    "plt.xlabel('z')\n",
    "plt.ylabel('(np.log(z)')\n",
    "plt.show()"
   ]
  },
  {
   "cell_type": "code",
   "execution_count": 11,
   "metadata": {},
   "outputs": [
    {
     "data": {
      "image/png": "[encoded data removed]",
      "text/plain": [
       "<Figure size 432x288 with 1 Axes>"
      ]
     },
     "metadata": {
      "needs_background": "light"
     },
     "output_type": "display_data"
    }
   ],
   "source": [
    "zs = np.arange(0.01, 10., 0.01)\n",
    "gs = [-np.log(z) for z in zs]\n",
    "plt.plot(zs, gs)\n",
    "plt.xlim(0,1)\n",
    "plt.ylim(0,5)\n",
    "plt.xlabel('z')\n",
    "plt.ylabel('(np.log(z)')\n",
    "plt.show()"
   ]
  },
  {
   "cell_type": "code",
   "execution_count": 12,
   "metadata": {},
   "outputs": [
    {
     "name": "stderr",
     "output_type": "stream",
     "text": [
      "<ipython-input-12-f9b7ab8d5399>:2: RuntimeWarning: divide by zero encountered in log\n",
      "  gs = [-np.log(1-z) for z in zs]\n",
      "<ipython-input-12-f9b7ab8d5399>:2: RuntimeWarning: invalid value encountered in log\n",
      "  gs = [-np.log(1-z) for z in zs]\n"
     ]
    },
    {
     "data": {
      "image/png": "[encoded data removed]",
      "text/plain": [
       "<Figure size 432x288 with 1 Axes>"
      ]
     },
     "metadata": {
      "needs_background": "light"
     },
     "output_type": "display_data"
    }
   ],
   "source": [
    "zs = np.arange(0.01, 10., 0.01)\n",
    "gs = [-np.log(1-z) for z in zs]\n",
    "plt.plot(zs, gs)\n",
    "plt.xlim(0,1)\n",
    "plt.ylim(0,5)\n",
    "plt.xlabel('z')\n",
    "plt.ylabel('-(np.log(1-z)')\n",
    "plt.show()"
   ]
  },
  {
   "cell_type": "code",
   "execution_count": 13,
   "metadata": {},
   "outputs": [
    {
     "name": "stdout",
     "output_type": "stream",
     "text": [
      "(569, 30) (569,)\n"
     ]
    }
   ],
   "source": [
    "from sklearn.datasets import load_breast_cancer\n",
    "cancer = load_breast_cancer()\n",
    "print(cancer.data.shape, cancer.target.shape)"
   ]
  },
  {
   "cell_type": "code",
   "execution_count": 14,
   "metadata": {
    "scrolled": true
   },
   "outputs": [
    {
     "name": "stdout",
     "output_type": "stream",
     "text": [
      "(3, 30)\n",
      "[[1.799e+01 1.038e+01 1.228e+02 1.001e+03 1.184e-01 2.776e-01 3.001e-01\n",
      "  1.471e-01 2.419e-01 7.871e-02 1.095e+00 9.053e-01 8.589e+00 1.534e+02\n",
      "  6.399e-03 4.904e-02 5.373e-02 1.587e-02 3.003e-02 6.193e-03 2.538e+01\n",
      "  1.733e+01 1.846e+02 2.019e+03 1.622e-01 6.656e-01 7.119e-01 2.654e-01\n",
      "  4.601e-01 1.189e-01]\n",
      " [2.057e+01 1.777e+01 1.329e+02 1.326e+03 8.474e-02 7.864e-02 8.690e-02\n",
      "  7.017e-02 1.812e-01 5.667e-02 5.435e-01 7.339e-01 3.398e+00 7.408e+01\n",
      "  5.225e-03 1.308e-02 1.860e-02 1.340e-02 1.389e-02 3.532e-03 2.499e+01\n",
      "  2.341e+01 1.588e+02 1.956e+03 1.238e-01 1.866e-01 2.416e-01 1.860e-01\n",
      "  2.750e-01 8.902e-02]\n",
      " [1.969e+01 2.125e+01 1.300e+02 1.203e+03 1.096e-01 1.599e-01 1.974e-01\n",
      "  1.279e-01 2.069e-01 5.999e-02 7.456e-01 7.869e-01 4.585e+00 9.403e+01\n",
      "  6.150e-03 4.006e-02 3.832e-02 2.058e-02 2.250e-02 4.571e-03 2.357e+01\n",
      "  2.553e+01 1.525e+02 1.709e+03 1.444e-01 4.245e-01 4.504e-01 2.430e-01\n",
      "  3.613e-01 8.758e-02]]\n"
     ]
    }
   ],
   "source": [
    "print(cancer.data[:3].shape)  # (3,30)\n",
    "print(cancer.data[:3])"
   ]
  },
  {
   "cell_type": "code",
   "execution_count": 15,
   "metadata": {},
   "outputs": [
    {
     "data": {
      "image/png": "[encoded data removed]",
      "text/plain": [
       "<Figure size 432x288 with 1 Axes>"
      ]
     },
     "metadata": {
      "needs_background": "light"
     },
     "output_type": "display_data"
    }
   ],
   "source": [
    "import matplotlib.pyplot as  plt\n",
    "import numpy as np\n",
    "\n",
    "plt.boxplot(cancer.data)\n",
    "plt.xlabel('feature')\n",
    "plt.ylabel('value')\n",
    "plt.show()"
   ]
  },
  {
   "cell_type": "code",
   "execution_count": 16,
   "metadata": {},
   "outputs": [
    {
     "data": {
      "text/plain": [
       "array(['mean radius', 'mean texture', 'mean perimeter', 'mean area',\n",
       "       'mean smoothness', 'mean compactness', 'mean concavity',\n",
       "       'mean concave points', 'mean symmetry', 'mean fractal dimension',\n",
       "       'radius error', 'texture error', 'perimeter error', 'area error',\n",
       "       'smoothness error', 'compactness error', 'concavity error',\n",
       "       'concave points error', 'symmetry error',\n",
       "       'fractal dimension error', 'worst radius', 'worst texture',\n",
       "       'worst perimeter', 'worst area', 'worst smoothness',\n",
       "       'worst compactness', 'worst concavity', 'worst concave points',\n",
       "       'worst symmetry', 'worst fractal dimension'], dtype='<U23')"
      ]
     },
     "execution_count": 16,
     "metadata": {},
     "output_type": "execute_result"
    }
   ],
   "source": [
    "cancer.feature_names"
   ]
  },
  {
   "cell_type": "code",
   "execution_count": 17,
   "metadata": {},
   "outputs": [
    {
     "data": {
      "text/plain": [
       "array(['mean area', 'worst area'], dtype='<U23')"
      ]
     },
     "execution_count": 17,
     "metadata": {},
     "output_type": "execute_result"
    }
   ],
   "source": [
    "cancer.feature_names[[3,23]]"
   ]
  },
  {
   "cell_type": "code",
   "execution_count": 18,
   "metadata": {},
   "outputs": [
    {
     "data": {
      "text/plain": [
       "array([0, 0, 0, 0, 0, 0, 0, 0, 0, 0, 0, 0, 0, 0, 0, 0, 0, 0, 0, 1, 1, 1,\n",
       "       0, 0, 0, 0, 0, 0, 0, 0, 0, 0, 0, 0, 0, 0, 0, 1, 0, 0, 0, 0, 0, 0,\n",
       "       0, 0, 1, 0, 1, 1, 1, 1, 1, 0, 0, 1, 0, 0, 1, 1, 1, 1, 0, 1, 0, 0,\n",
       "       1, 1, 1, 1, 0, 1, 0, 0, 1, 0, 1, 0, 0, 1, 1, 1, 0, 0, 1, 0, 0, 0,\n",
       "       1, 1, 1, 0, 1, 1, 0, 0, 1, 1, 1, 0, 0, 1, 1, 1, 1, 0, 1, 1, 0, 1,\n",
       "       1, 1, 1, 1, 1, 1, 1, 0, 0, 0, 1, 0, 0, 1, 1, 1, 0, 0, 1, 0, 1, 0,\n",
       "       0, 1, 0, 0, 1, 1, 0, 1, 1, 0, 1, 1, 1, 1, 0, 1, 1, 1, 1, 1, 1, 1,\n",
       "       1, 1, 0, 1, 1, 1, 1, 0, 0, 1, 0, 1, 1, 0, 0, 1, 1, 0, 0, 1, 1, 1,\n",
       "       1, 0, 1, 1, 0, 0, 0, 1, 0, 1, 0, 1, 1, 1, 0, 1, 1, 0, 0, 1, 0, 0,\n",
       "       0, 0, 1, 0, 0, 0, 1, 0, 1, 0, 1, 1, 0, 1, 0, 0, 0, 0, 1, 1, 0, 0,\n",
       "       1, 1, 1, 0, 1, 1, 1, 1, 1, 0, 0, 1, 1, 0, 1, 1, 0, 0, 1, 0, 1, 1,\n",
       "       1, 1, 0, 1, 1, 1, 1, 1, 0, 1, 0, 0, 0, 0, 0, 0, 0, 0, 0, 0, 0, 0,\n",
       "       0, 0, 1, 1, 1, 1, 1, 1, 0, 1, 0, 1, 1, 0, 1, 1, 0, 1, 0, 0, 1, 1,\n",
       "       1, 1, 1, 1, 1, 1, 1, 1, 1, 1, 1, 0, 1, 1, 0, 1, 0, 1, 1, 1, 1, 1,\n",
       "       1, 1, 1, 1, 1, 1, 1, 1, 1, 0, 1, 1, 1, 0, 1, 0, 1, 1, 1, 1, 0, 0,\n",
       "       0, 1, 1, 1, 1, 0, 1, 0, 1, 0, 1, 1, 1, 0, 1, 1, 1, 1, 1, 1, 1, 0,\n",
       "       0, 0, 1, 1, 1, 1, 1, 1, 1, 1, 1, 1, 1, 0, 0, 1, 0, 0, 0, 1, 0, 0,\n",
       "       1, 1, 1, 1, 1, 0, 1, 1, 1, 1, 1, 0, 1, 1, 1, 0, 1, 1, 0, 0, 1, 1,\n",
       "       1, 1, 1, 1, 0, 1, 1, 1, 1, 1, 1, 1, 0, 1, 1, 1, 1, 1, 0, 1, 1, 0,\n",
       "       1, 1, 1, 1, 1, 1, 1, 1, 1, 1, 1, 1, 0, 1, 0, 0, 1, 0, 1, 1, 1, 1,\n",
       "       1, 0, 1, 1, 0, 1, 0, 1, 1, 0, 1, 0, 1, 1, 1, 1, 1, 1, 1, 1, 0, 0,\n",
       "       1, 1, 1, 1, 1, 1, 0, 1, 1, 1, 1, 1, 1, 1, 1, 1, 1, 0, 1, 1, 1, 1,\n",
       "       1, 1, 1, 0, 1, 0, 1, 1, 0, 1, 1, 1, 1, 1, 0, 0, 1, 0, 1, 0, 1, 1,\n",
       "       1, 1, 1, 0, 1, 1, 0, 1, 0, 1, 0, 0, 1, 1, 1, 0, 1, 1, 1, 1, 1, 1,\n",
       "       1, 1, 1, 1, 1, 0, 1, 0, 0, 1, 1, 1, 1, 1, 1, 1, 1, 1, 1, 1, 1, 1,\n",
       "       1, 1, 1, 1, 1, 1, 1, 1, 1, 1, 1, 1, 0, 0, 0, 0, 0, 0, 1])"
      ]
     },
     "execution_count": 18,
     "metadata": {},
     "output_type": "execute_result"
    }
   ],
   "source": [
    "cancer.target"
   ]
  },
  {
   "cell_type": "code",
   "execution_count": 19,
   "metadata": {},
   "outputs": [
    {
     "data": {
      "text/plain": [
       "array([0, 1])"
      ]
     },
     "execution_count": 19,
     "metadata": {},
     "output_type": "execute_result"
    }
   ],
   "source": [
    "np.unique(cancer.target)"
   ]
  },
  {
   "cell_type": "code",
   "execution_count": 20,
   "metadata": {},
   "outputs": [
    {
     "data": {
      "text/plain": [
       "(array([0, 1]), array([212, 357], dtype=int64))"
      ]
     },
     "execution_count": 20,
     "metadata": {},
     "output_type": "execute_result"
    }
   ],
   "source": [
    "np.unique(cancer.target, return_counts=True)"
   ]
  },
  {
   "cell_type": "code",
   "execution_count": 21,
   "metadata": {},
   "outputs": [
    {
     "name": "stdout",
     "output_type": "stream",
     "text": [
      "(569, 30)\n",
      "1\n"
     ]
    }
   ],
   "source": [
    "x = cancer.data\n",
    "print(x.shape)\n",
    "y = cancer.target\n",
    "print(y.ndim)"
   ]
  },
  {
   "cell_type": "code",
   "execution_count": 22,
   "metadata": {},
   "outputs": [],
   "source": [
    "from sklearn.model_selection import train_test_split\n",
    "\n",
    "x_train, x_test, y_train, y_test = train_test_split(x, y, stratify=y, \n",
    "test_size=0.2, random_state=42)"
   ]
  },
  {
   "cell_type": "code",
   "execution_count": 23,
   "metadata": {},
   "outputs": [
    {
     "name": "stdout",
     "output_type": "stream",
     "text": [
      "(455, 30) (114, 30)\n"
     ]
    }
   ],
   "source": [
    "print(x_train.shape, x_test.shape)"
   ]
  },
  {
   "cell_type": "code",
   "execution_count": 24,
   "metadata": {},
   "outputs": [
    {
     "data": {
      "text/plain": [
       "(array([0, 1]), array([170, 285], dtype=int64))"
      ]
     },
     "execution_count": 24,
     "metadata": {},
     "output_type": "execute_result"
    }
   ],
   "source": [
    "np.unique(y_train, return_counts=True)"
   ]
  },
  {
   "cell_type": "code",
   "execution_count": 25,
   "metadata": {},
   "outputs": [
    {
     "data": {
      "text/plain": [
       "(array([0, 1]), array([42, 72], dtype=int64))"
      ]
     },
     "execution_count": 25,
     "metadata": {},
     "output_type": "execute_result"
    }
   ],
   "source": [
    "np.unique(y_test, return_counts=True)"
   ]
  },
  {
   "cell_type": "code",
   "execution_count": 26,
   "metadata": {},
   "outputs": [
    {
     "name": "stdout",
     "output_type": "stream",
     "text": [
      "[0 1 2 3]\n",
      "[[0 1]\n",
      " [2 3]]\n",
      "2\n",
      "(2,)\n",
      "[0 1]\n",
      "[2 3]\n"
     ]
    }
   ],
   "source": [
    "print(np.arange(4))\n",
    "a = np.arange(4).reshape(2,2)\n",
    "print(a)\n",
    "print(len(a)) # a.shape[0] (2,2)\n",
    "print(a[0].shape)  # (2,)\n",
    "print(a[0])\n",
    "print(a[1])"
   ]
  },
  {
   "cell_type": "code",
   "execution_count": 27,
   "metadata": {},
   "outputs": [
    {
     "name": "stdout",
     "output_type": "stream",
     "text": [
      "(455, 30)\n",
      "(30,)\n",
      "[1. 1. 1. 1. 1. 1. 1. 1. 1. 1. 1. 1. 1. 1. 1. 1. 1. 1. 1. 1. 1. 1. 1. 1.\n",
      " 1. 1. 1. 1. 1. 1.]\n"
     ]
    }
   ],
   "source": [
    "x = np.arange(455*30).reshape(455,30)\n",
    "print(x.shape)\n",
    "w = np.ones(x.shape[1])\n",
    "print(w.shape)\n",
    "print(w)"
   ]
  },
  {
   "cell_type": "code",
   "execution_count": 28,
   "metadata": {},
   "outputs": [
    {
     "name": "stdout",
     "output_type": "stream",
     "text": [
      "(455, 30)\n",
      "(455,)\n",
      "(30,)\n",
      "()\n",
      "[ 0  1  2  3  4  5  6  7  8  9 10 11 12 13 14 15 16 17 18 19 20 21 22 23\n",
      " 24 25 26 27 28 29]\n"
     ]
    }
   ],
   "source": [
    "x = np.arange(455*30).reshape(455,30)\n",
    "y = np.arange(455)\n",
    "print(x.shape)\n",
    "print(y.shape)\n",
    "for x_i, y_i in zip(x,y):\n",
    "    print(x_i.shape)   # (30,)\n",
    "    print(y_i.shape)   # ()\n",
    "    print(x_i)         \n",
    "    break"
   ]
  },
  {
   "cell_type": "code",
   "execution_count": 29,
   "metadata": {},
   "outputs": [
    {
     "name": "stdout",
     "output_type": "stream",
     "text": [
      "1 6\n",
      "2 7\n",
      "3 8\n",
      "4 9\n",
      "5 10\n"
     ]
    }
   ],
   "source": [
    "a = [1,2,3,4,5]\n",
    "b = [6,7,8,9,10]\n",
    "for i,j in zip(a,b):\n",
    "    print(i,j)"
   ]
  },
  {
   "cell_type": "code",
   "execution_count": 30,
   "metadata": {},
   "outputs": [
    {
     "name": "stdout",
     "output_type": "stream",
     "text": [
      "[ 0  1  2  3  4  5  6  7  8  9 10 11 12 13 14 15 16 17 18 19 20 21 22 23\n",
      " 24 25 26 27 28 29]\n",
      "[3 3 3 3 3 3 3 3 3 3 3 3 3 3 3 3 3 3 3 3 3 3 3 3 3 3 3 3 3 3]\n",
      "[ 0  3  6  9 12 15 18 21 24 27 30 33 36 39 42 45 48 51 54 57 60 63 66 69\n",
      " 72 75 78 81 84 87]\n"
     ]
    }
   ],
   "source": [
    "x = np.arange(30)\n",
    "w = np.full((30,), 3)\n",
    "print(x)\n",
    "print(w)\n",
    "print(x*w)"
   ]
  },
  {
   "cell_type": "code",
   "execution_count": 31,
   "metadata": {},
   "outputs": [
    {
     "name": "stdout",
     "output_type": "stream",
     "text": [
      "1315\n"
     ]
    }
   ],
   "source": [
    "x = np.arange(30)\n",
    "w = np.full((30,), 3)\n",
    "x*w   # 아다마르의 곱\n",
    "b = 10\n",
    "print(np.sum(x*w)+b)"
   ]
  },
  {
   "cell_type": "code",
   "execution_count": 32,
   "metadata": {},
   "outputs": [
    {
     "name": "stdout",
     "output_type": "stream",
     "text": [
      "[ 0  1  2  3  4  5  6  7  8  9 10 11 12 13 14 15 16 17 18 19 20 21 22 23\n",
      " 24 25 26 27 28 29]\n",
      "[10 10 10 10 10 10 10 10 10 10 10 11 12 13 14 15 16 17 18 19 20 20 20 20\n",
      " 20 20 20 20 20 20]\n"
     ]
    }
   ],
   "source": [
    "z = np.arange(30)\n",
    "print(z)\n",
    "z = np.clip(z, 10, 20)\n",
    "print(z)"
   ]
  },
  {
   "cell_type": "code",
   "execution_count": 33,
   "metadata": {},
   "outputs": [
    {
     "name": "stdout",
     "output_type": "stream",
     "text": [
      "inf\n"
     ]
    },
    {
     "name": "stderr",
     "output_type": "stream",
     "text": [
      "<ipython-input-33-601a998266d6>:4: RuntimeWarning: overflow encountered in exp\n",
      "  a = np.exp(-z)\n"
     ]
    }
   ],
   "source": [
    "z = -1000\n",
    "# z = np.clip(z, -100, 0)\n",
    "# print(z)\n",
    "a = np.exp(-z)\n",
    "print(a)"
   ]
  },
  {
   "cell_type": "code",
   "execution_count": 34,
   "metadata": {},
   "outputs": [
    {
     "name": "stdout",
     "output_type": "stream",
     "text": [
      "[0 0 0 0]\n"
     ]
    }
   ],
   "source": [
    "x = np.array([1,2,3,4])\n",
    "err = 0\n",
    "w_grad = x*err  # [1,2,3,4]*[0,0,0,0] , broad cast 연산,  repeat 연산\n",
    "print(w_grad)"
   ]
  },
  {
   "cell_type": "code",
   "execution_count": 35,
   "metadata": {},
   "outputs": [
    {
     "name": "stdout",
     "output_type": "stream",
     "text": [
      "[0.5 1.  1.5 2. ]\n"
     ]
    }
   ],
   "source": [
    "x = np.array([1,2,3,4])\n",
    "err = 0.5\n",
    "w_grad = x*err  # [1,2,3,4]*[1,1,1,1] , broad cast 연산,  repeat 연산\n",
    "print(w_grad)"
   ]
  },
  {
   "cell_type": "code",
   "execution_count": 36,
   "metadata": {},
   "outputs": [
    {
     "name": "stdout",
     "output_type": "stream",
     "text": [
      "[0 1 2 3]\n",
      "(4,)\n"
     ]
    }
   ],
   "source": [
    "a = np.arange(4)\n",
    "print(a)\n",
    "print(a.shape)"
   ]
  },
  {
   "cell_type": "code",
   "execution_count": 37,
   "metadata": {},
   "outputs": [
    {
     "name": "stdout",
     "output_type": "stream",
     "text": [
      "(2, 2)\n",
      "2\n",
      "2\n",
      "(2,)\n",
      "[0 1]\n",
      "[2 3]\n"
     ]
    }
   ],
   "source": [
    "a = np.arange(4).reshape(2,2)\n",
    "print(a.shape)\n",
    "print(len(a))\n",
    "print(a.shape[0])\n",
    "print(a[0].shape)\n",
    "print(a[0])\n",
    "print(a[1])"
   ]
  },
  {
   "cell_type": "code",
   "execution_count": 38,
   "metadata": {},
   "outputs": [],
   "source": [
    "class LogisticNeuron:\n",
    "    \n",
    "    def __init__(self):\n",
    "        self.w = None\n",
    "        self.b = None\n",
    "\n",
    "    def forpass(self, x):  # x.shape => (30,), self.w.shape => (30,)\n",
    "        z = np.sum(x * self.w) + self.b  # 직선 방정식을 계산합니다\n",
    "        return z\n",
    "\n",
    "    def backprop(self, x, err):\n",
    "        w_grad = x * err    # 가중치에 대한 그래디언트를 계산합니다\n",
    "        b_grad = 1 * err    # 절편에 대한 그래디언트를 계산합니다\n",
    "        return w_grad, b_grad\n",
    "\n",
    "    def activation(self, z):\n",
    "        z = np.clip(z, -100, None) # 안전한 np.exp() 계산을 위해\n",
    "        a = 1 / (1 + np.exp(-z))  # 시그모이드 계산\n",
    "        return a\n",
    "        \n",
    "    def fit(self, x, y, epochs=100, lr=0.01): # x.shape (455,30)\n",
    "        print(\"x.shape=\", x.shape)  \n",
    "        self.w = np.ones(x.shape[1])      # 가중치를 초기화합니다.\n",
    "        print(\"self.w.shape=\", self.w.shape)\n",
    "        self.b = 0                        # 절편을 초기화합니다.\n",
    "        for i in range(epochs):           # epochs만큼 반복합니다\n",
    "            for x_i, y_i in zip(x, y):    # (455,30) , (455,)   x_i = x[0] , y_i = y[0]\n",
    "#                 print(\"x_i.shape=\", x_i.shape)\n",
    "                z = self.forpass(x_i)     # 정방향 계산 (30,)\n",
    "#                 print(\"z=\", z)\n",
    "                a = self.activation(z)    # 활성화 함수 적용\n",
    "#                 print(\"a=\", a)\n",
    "#                 print(\"y_i=\",y_i)\n",
    "                err = (a - y_i)           # (1 - 0)\n",
    "#                 print(\"err=\", err)\n",
    "                w_grad, b_grad = self.backprop(x_i, err) # 역방향 계산\n",
    "#                 print(\"w_grad=\", w_grad)\n",
    "                self.w -= lr*w_grad          # 가중치 업데이트\n",
    "                self.b -= lr*b_grad          # 절편 업데이트\n",
    "                \n",
    "#                 if( err > 0 and err < 1 ):\n",
    "#                     break;\n",
    "#                 break\n",
    "    \n",
    "    def predict(self, x):\n",
    "        z = [self.forpass(x_i) for x_i in x]    # 정방향 계산\n",
    "        a = self.activation(np.array(z))        # 활성화 함수 적용\n",
    "        return a >= 0.5"
   ]
  },
  {
   "cell_type": "code",
   "execution_count": 39,
   "metadata": {},
   "outputs": [
    {
     "name": "stdout",
     "output_type": "stream",
     "text": [
      "(455, 30)\n",
      "(455,)\n"
     ]
    }
   ],
   "source": [
    "print(x_train.shape)\n",
    "print(y_train.shape)"
   ]
  },
  {
   "cell_type": "code",
   "execution_count": 40,
   "metadata": {},
   "outputs": [
    {
     "name": "stdout",
     "output_type": "stream",
     "text": [
      "x.shape= (455, 30)\n",
      "self.w.shape= (30,)\n"
     ]
    }
   ],
   "source": [
    "neuron = LogisticNeuron()\n",
    "neuron.fit(x_train, y_train) # (455,30)"
   ]
  },
  {
   "cell_type": "code",
   "execution_count": 41,
   "metadata": {},
   "outputs": [
    {
     "name": "stdout",
     "output_type": "stream",
     "text": [
      "[False  True False False False False  True False False False  True False\n",
      "  True False False False False  True False  True False False  True  True\n",
      " False False False  True  True False  True  True  True  True False  True\n",
      "  True  True False False  True  True  True False False False  True  True\n",
      "  True False  True False  True False  True  True  True False False  True\n",
      " False  True  True False False False False  True False False  True  True\n",
      "  True False False False  True  True  True False False  True False  True\n",
      " False  True False  True False False False False False False False  True\n",
      " False  True False False False False  True  True False False  True False\n",
      "  True False False False False  True]\n",
      "114\n",
      "[0 1 0 1 0 1 1 0 0 0 1 0 1 0 0 1 1 1 1 1 0 0 1 1 1 1 0 1 1 1 1 1 1 1 0 0 1\n",
      " 1 1 0 1 1 1 0 0 1 1 1 1 0 1 1 1 0 1 1 1 0 0 1 1 1 1 1 0 0 1 1 1 1 1 1 1 0\n",
      " 0 0 0 1 1 1 1 1 0 1 0 1 1 1 1 1 1 1 0 0 0 1 0 1 0 1 0 0 0 1 0 0 1 0 1 0 1\n",
      " 0 1 1]\n"
     ]
    }
   ],
   "source": [
    "print(neuron.predict(x_test))\n",
    "print(len(y_test))\n",
    "print(y_test)"
   ]
  },
  {
   "cell_type": "code",
   "execution_count": 42,
   "metadata": {},
   "outputs": [
    {
     "name": "stdout",
     "output_type": "stream",
     "text": [
      "[ True  True  True False  True False  True  True  True  True  True  True\n",
      "  True  True  True False False  True False  True  True  True  True  True\n",
      " False False  True  True  True False  True  True  True  True  True False\n",
      "  True  True False  True  True  True  True  True  True False  True  True\n",
      "  True  True  True False  True  True  True  True  True  True  True  True\n",
      " False  True  True False  True  True False  True False False  True  True\n",
      "  True  True  True  True False  True  True False False  True  True  True\n",
      "  True  True False  True False False False False  True  True  True  True\n",
      "  True  True  True False  True  True False  True  True  True  True  True\n",
      "  True  True False  True False  True]\n"
     ]
    }
   ],
   "source": [
    "print(neuron.predict(x_test) == y_test)"
   ]
  },
  {
   "cell_type": "code",
   "execution_count": 43,
   "metadata": {},
   "outputs": [
    {
     "data": {
      "text/plain": [
       "0.7456140350877193"
      ]
     },
     "execution_count": 43,
     "metadata": {},
     "output_type": "execute_result"
    }
   ],
   "source": [
    "np.mean(neuron.predict(x_test) == y_test)"
   ]
  },
  {
   "cell_type": "markdown",
   "metadata": {},
   "source": [
    "### 단일층 신경망 구현"
   ]
  },
  {
   "cell_type": "code",
   "execution_count": 44,
   "metadata": {},
   "outputs": [
    {
     "name": "stdout",
     "output_type": "stream",
     "text": [
      "[1, 2, 3, 4, 5, 6, 7]\n"
     ]
    }
   ],
   "source": [
    "losses = []\n",
    "\n",
    "for i in range(7):\n",
    "    losses.append(i+1)\n",
    "\n",
    "print(losses)"
   ]
  },
  {
   "cell_type": "code",
   "execution_count": 45,
   "metadata": {},
   "outputs": [
    {
     "data": {
      "text/plain": [
       "array([8, 1, 5, 0, 7, 2, 9, 4, 3, 6])"
      ]
     },
     "execution_count": 45,
     "metadata": {},
     "output_type": "execute_result"
    }
   ],
   "source": [
    "np.random.permutation(10)"
   ]
  },
  {
   "cell_type": "code",
   "execution_count": 46,
   "metadata": {},
   "outputs": [
    {
     "name": "stdout",
     "output_type": "stream",
     "text": [
      "1\n",
      "[1 2]\n",
      "[1 3 5]\n"
     ]
    }
   ],
   "source": [
    "a = np.array([1,2,3,4,5])\n",
    "print(a[0])        # 인덱싱\n",
    "print(a[0:2])      # 슬라이싱\n",
    "print(a[[0,2,4]])  # 정수 인덱싱"
   ]
  },
  {
   "cell_type": "code",
   "execution_count": 47,
   "metadata": {},
   "outputs": [
    {
     "name": "stdout",
     "output_type": "stream",
     "text": [
      "[ 1  4  3  5  6  7 23  2]\n"
     ]
    }
   ],
   "source": [
    "x = np.array([3,4,2,5,1,6,23,7])\n",
    "# print(x)\n",
    "indexes = np.random.permutation(len(x))\n",
    "# print(indexes)\n",
    "print(x[indexes])"
   ]
  },
  {
   "cell_type": "code",
   "execution_count": 48,
   "metadata": {},
   "outputs": [
    {
     "name": "stdout",
     "output_type": "stream",
     "text": [
      "[[150 151 152 153 154 155 156 157 158 159]\n",
      " [190 191 192 193 194 195 196 197 198 199]\n",
      " [ 60  61  62  63  64  65  66  67  68  69]\n",
      " [180 181 182 183 184 185 186 187 188 189]\n",
      " [ 80  81  82  83  84  85  86  87  88  89]\n",
      " [100 101 102 103 104 105 106 107 108 109]\n",
      " [ 30  31  32  33  34  35  36  37  38  39]\n",
      " [120 121 122 123 124 125 126 127 128 129]\n",
      " [140 141 142 143 144 145 146 147 148 149]\n",
      " [ 90  91  92  93  94  95  96  97  98  99]\n",
      " [  0   1   2   3   4   5   6   7   8   9]\n",
      " [ 40  41  42  43  44  45  46  47  48  49]\n",
      " [160 161 162 163 164 165 166 167 168 169]\n",
      " [170 171 172 173 174 175 176 177 178 179]\n",
      " [ 50  51  52  53  54  55  56  57  58  59]\n",
      " [130 131 132 133 134 135 136 137 138 139]\n",
      " [110 111 112 113 114 115 116 117 118 119]\n",
      " [ 10  11  12  13  14  15  16  17  18  19]\n",
      " [ 20  21  22  23  24  25  26  27  28  29]\n",
      " [ 70  71  72  73  74  75  76  77  78  79]]\n"
     ]
    }
   ],
   "source": [
    "x = np.arange(20*10).reshape(20,10)\n",
    "# print(x)\n",
    "indexes = np.random.permutation(len(x))  # len(x) => x.shape[0]\n",
    "# print(indexes)\n",
    "print(x[indexes])"
   ]
  },
  {
   "cell_type": "code",
   "execution_count": 49,
   "metadata": {},
   "outputs": [
    {
     "name": "stdout",
     "output_type": "stream",
     "text": [
      "0.7456140350877193\n",
      "0.9298245614035088\n"
     ]
    }
   ],
   "source": [
    "import numpy as np\n",
    "import matplotlib.pyplot as plt\n",
    "from sklearn.datasets import load_breast_cancer\n",
    "from sklearn.model_selection import train_test_split\n",
    "\n",
    "cancer = load_breast_cancer()\n",
    "x = cancer.data\n",
    "y = cancer.target\n",
    "x_train, x_test, y_train, y_test = train_test_split(x, y, stratify=y, \n",
    "                                                    test_size=0.2, random_state=42)\n",
    "\n",
    "class SingleLayer:\n",
    "    \n",
    "    def __init__(self, rand_flag=0):\n",
    "        self.w = None\n",
    "        self.b = None\n",
    "        self.losses = []\n",
    "        self.rand_flag = rand_flag\n",
    "\n",
    "    def forpass(self, x):\n",
    "        z = np.sum(x * self.w) + self.b  # 직선 방정식을 계산합니다\n",
    "        return z\n",
    "\n",
    "    def backprop(self, x, err):\n",
    "        w_grad = x * err    # 가중치에 대한 그래디언트를 계산합니다\n",
    "        b_grad = 1 * err    # 절편에 대한 그래디언트를 계산합니다\n",
    "        return w_grad, b_grad\n",
    "\n",
    "    def activation(self, z):\n",
    "        z = np.clip(z, -100, None) # 안전한 np.exp() 계산을 위해\n",
    "        a = 1 / (1 + np.exp(-z))  # 시그모이드 계산\n",
    "        return a\n",
    "        \n",
    "    def fit(self, x, y, epochs=100, rate=0.01):\n",
    "        self.w = np.ones(x.shape[1])               # 가중치를 초기화합니다.\n",
    "        self.b = 0                                 # 절편을 초기화합니다.\n",
    "        for i in range(epochs):                    # epochs만큼 반복합니다\n",
    "            loss = 0\n",
    "            # 인덱스를 섞습니다\n",
    "            \n",
    "            if( self.rand_flag == 1 ):\n",
    "                indexes = np.random.permutation(len(x))\n",
    "            else:\n",
    "                indexes = np.arange(len(x))\n",
    "                \n",
    "            for i in indexes:                      # 모든 샘플에 대해 반복합니다\n",
    "                z = self.forpass(x[i])             # 정방향 계산\n",
    "                a = self.activation(z)             # 활성화 함수 적용\n",
    "                err = a - y[i]                     # 오차 계산\n",
    "                w_grad, b_grad = self.backprop(x[i], err) # 역방향 계산\n",
    "                self.w -= rate*w_grad                   # 가중치 업데이트\n",
    "                self.b -= rate*b_grad                   # 절편 업데이트\n",
    "                # 안전한 로그 계산을 위해 클리핑한 후 손실을 누적합니다\n",
    "                a = np.clip(a, 1e-10, 1-1e-10)\n",
    "                loss += -(y[i]*np.log(a)+(1-y[i])*np.log(1-a))\n",
    "            # 에포크마다 평균 손실을 저장합니다\n",
    "            self.losses.append(loss/len(y))\n",
    "    \n",
    "    def predict(self, x):\n",
    "        z = [self.forpass(x_i) for x_i in x]     # 정방향 계산\n",
    "        return np.array(z) > 0                   # 스텝 함수 적용\n",
    "    \n",
    "    def score(self, x, y):\n",
    "        return np.mean(self.predict(x) == y)\n",
    "\n",
    "layer1 = SingleLayer(rand_flag=0)\n",
    "layer1.fit(x_train, y_train,100)\n",
    "print(layer1.score(x_test, y_test))\n",
    "\n",
    "layer2 = SingleLayer(rand_flag=1)\n",
    "layer2.fit(x_train, y_train,100)\n",
    "print(layer2.score(x_test, y_test))"
   ]
  },
  {
   "cell_type": "code",
   "execution_count": 50,
   "metadata": {},
   "outputs": [
    {
     "data": {
      "image/png": "[encoded data removed]",
      "text/plain": [
       "<Figure size 432x288 with 1 Axes>"
      ]
     },
     "metadata": {
      "needs_background": "light"
     },
     "output_type": "display_data"
    }
   ],
   "source": [
    "plt.plot(layer1.losses)\n",
    "plt.plot(layer2.losses)\n",
    "plt.xlabel('epoch')\n",
    "plt.ylabel('loss')\n",
    "plt.show()"
   ]
  },
  {
   "cell_type": "markdown",
   "metadata": {},
   "source": [
    "### 스케일 테스트"
   ]
  },
  {
   "cell_type": "code",
   "execution_count": 51,
   "metadata": {},
   "outputs": [
    {
     "name": "stdout",
     "output_type": "stream",
     "text": [
      "['mean perimeter' 'mean area']\n"
     ]
    },
    {
     "data": {
      "image/png": "[encoded data removed]",
      "text/plain": [
       "<Figure size 432x288 with 1 Axes>"
      ]
     },
     "metadata": {
      "needs_background": "light"
     },
     "output_type": "display_data"
    }
   ],
   "source": [
    "print(cancer.feature_names[[2,3]])\n",
    "plt.boxplot(x_train[:, 2:4])\n",
    "plt.xlabel('feature')\n",
    "plt.ylabel('value')\n",
    "plt.show()"
   ]
  },
  {
   "cell_type": "code",
   "execution_count": 52,
   "metadata": {},
   "outputs": [
    {
     "name": "stdout",
     "output_type": "stream",
     "text": [
      "[100 102 104 106 108 110 112 114 116 118 120 122 124 126 128 130 132 134\n",
      " 136 138 140 142 144 146 148 150 152 154 156 158 160 162 164 166 168 170\n",
      " 172 174 176 178 180 182 184 186 188 190 192 194 196 198]\n",
      "149.0\n",
      "28.861739379323623\n",
      "[-1.69774938 -1.62845348 -1.55915759 -1.4898617  -1.4205658  -1.35126991\n",
      " -1.28197402 -1.21267813 -1.14338223 -1.07408634 -1.00479045 -0.93549455\n",
      " -0.86619866 -0.79690277 -0.72760688 -0.65831098 -0.58901509 -0.5197192\n",
      " -0.4504233  -0.38112741 -0.31183152 -0.24253563 -0.17323973 -0.10394384\n",
      " -0.03464795  0.03464795  0.10394384  0.17323973  0.24253563  0.31183152\n",
      "  0.38112741  0.4504233   0.5197192   0.58901509  0.65831098  0.72760688\n",
      "  0.79690277  0.86619866  0.93549455  1.00479045  1.07408634  1.14338223\n",
      "  1.21267813  1.28197402  1.35126991  1.4205658   1.4898617   1.55915759\n",
      "  1.62845348  1.69774938]\n",
      "0.0\n",
      "1.0\n"
     ]
    }
   ],
   "source": [
    "import numpy as np\n",
    "x_train = np.arange(100,200,2)\n",
    "print(x_train)\n",
    "\n",
    "train_mean = np.mean(x_train)\n",
    "print(train_mean)\n",
    "train_std = np.std(x_train)\n",
    "print(train_std)\n",
    "x_train_scaled = (x_train - train_mean) / train_std\n",
    "print(x_train_scaled)\n",
    "print(np.mean(x_train_scaled))\n",
    "print(np.std(x_train_scaled))"
   ]
  },
  {
   "cell_type": "code",
   "execution_count": 53,
   "metadata": {},
   "outputs": [
    {
     "name": "stdout",
     "output_type": "stream",
     "text": [
      "21\n",
      "[ 6 15]\n",
      "[5 7 9]\n"
     ]
    }
   ],
   "source": [
    "a = np.array([[1,2,3],\n",
    "              [4,5,6]])   # (2,2)\n",
    "\n",
    "print(np.sum(a))        # 21\n",
    "print(np.sum(a,axis=1)) # [6 15]\n",
    "print(np.sum(a,axis=0)) # [5 7 9]"
   ]
  },
  {
   "cell_type": "code",
   "execution_count": 54,
   "metadata": {},
   "outputs": [
    {
     "name": "stdout",
     "output_type": "stream",
     "text": [
      "[[   0  100]\n",
      " [   2  300]\n",
      " [   4  500]\n",
      " [   6  700]\n",
      " [   8  900]\n",
      " [  10 1100]\n",
      " [  12 1300]\n",
      " [  14 1500]\n",
      " [  16 1700]\n",
      " [  18 1900]]\n",
      "[   9. 1000.]\n",
      "[  5.74456265 574.45626465]\n",
      "[[-1.5666989  -1.5666989 ]\n",
      " [-1.21854359 -1.21854359]\n",
      " [-0.87038828 -0.87038828]\n",
      " [-0.52223297 -0.52223297]\n",
      " [-0.17407766 -0.17407766]\n",
      " [ 0.17407766  0.17407766]\n",
      " [ 0.52223297  0.52223297]\n",
      " [ 0.87038828  0.87038828]\n",
      " [ 1.21854359  1.21854359]\n",
      " [ 1.5666989   1.5666989 ]]\n",
      "[-1.11022302e-16 -4.44089210e-17]\n",
      "[1. 1.]\n"
     ]
    }
   ],
   "source": [
    "import numpy as np\n",
    "x_train = np.arange(10*2).reshape(10,2)\n",
    "# print(x_train)\n",
    "x_train[:,1] *= 100\n",
    "print(x_train)\n",
    "train_mean = np.mean(x_train, axis=0)\n",
    "print(train_mean)\n",
    "train_std = np.std(x_train, axis=0)\n",
    "print(train_std)\n",
    "x_train_scaled = (x_train - train_mean) / train_std\n",
    "print(x_train_scaled)\n",
    "print(np.mean(x_train_scaled, axis=0))\n",
    "print(np.std(x_train_scaled, axis=0))"
   ]
  },
  {
   "cell_type": "code",
   "execution_count": 55,
   "metadata": {
    "scrolled": true
   },
   "outputs": [
    {
     "name": "stdout",
     "output_type": "stream",
     "text": [
      "['mean perimeter' 'mean area']\n"
     ]
    },
    {
     "data": {
      "image/png": "[encoded data removed]",
      "text/plain": [
       "<Figure size 432x288 with 1 Axes>"
      ]
     },
     "metadata": {
      "needs_background": "light"
     },
     "output_type": "display_data"
    }
   ],
   "source": [
    "import numpy as np\n",
    "import matplotlib.pyplot as plt\n",
    "\n",
    "from sklearn.datasets import load_breast_cancer\n",
    "from sklearn.model_selection import train_test_split\n",
    "cancer = load_breast_cancer()\n",
    "\n",
    "x = cancer.data\n",
    "y = cancer.target\n",
    "x_train, x_test, y_train, y_test = train_test_split(x, y, stratify=y, \n",
    "                                                            test_size=0.2, random_state=42)\n",
    "print(cancer.feature_names[[2,3]])\n",
    "plt.boxplot(x_train[:, 2:4])\n",
    "plt.xlabel('feature')\n",
    "plt.ylabel('value')\n",
    "plt.show()"
   ]
  },
  {
   "cell_type": "code",
   "execution_count": 56,
   "metadata": {},
   "outputs": [
    {
     "name": "stdout",
     "output_type": "stream",
     "text": [
      "15\n"
     ]
    }
   ],
   "source": [
    "a = np.array([1,2,3,4,5])\n",
    "print( np.sum(a) )"
   ]
  },
  {
   "cell_type": "code",
   "execution_count": 57,
   "metadata": {},
   "outputs": [
    {
     "name": "stdout",
     "output_type": "stream",
     "text": [
      "1.0\n",
      "-9.094947017729283e-17\n"
     ]
    }
   ],
   "source": [
    "a = np.arange(10000)\n",
    "std = np.std(a)\n",
    "mean = np.mean(a)\n",
    "z = (a - mean)/std\n",
    "print(np.std(z))\n",
    "print(np.mean(z)) #"
   ]
  },
  {
   "cell_type": "code",
   "execution_count": 58,
   "metadata": {},
   "outputs": [
    {
     "name": "stdout",
     "output_type": "stream",
     "text": [
      "(2, 3)\n",
      "21\n",
      "[5 7 9]\n",
      "[ 6 15]\n"
     ]
    }
   ],
   "source": [
    "a = np.array([[1,2,3],   # 6\n",
    "              [4,5,6]])  # 15\n",
    "print(a.shape)\n",
    "print(np.sum(a))\n",
    "print(np.sum(a, axis=0)) # 행끼리 더하라.  , 세로로 더하라\n",
    "print(np.sum(a, axis=1)) # 열끼리 더하라.  , 가로로 더하라"
   ]
  },
  {
   "cell_type": "code",
   "execution_count": 59,
   "metadata": {},
   "outputs": [
    {
     "name": "stdout",
     "output_type": "stream",
     "text": [
      "(3, 2)\n",
      "[[   1 4000]\n",
      " [   2 3000]\n",
      " [   3 5000]]\n",
      "[[-1.22474487  0.        ]\n",
      " [ 0.         -1.22474487]\n",
      " [ 1.22474487  1.22474487]]\n"
     ]
    }
   ],
   "source": [
    "# x.shape => (455,30) \n",
    "\n",
    "a = np.array([[1,4000],\n",
    "              [2,3000],\n",
    "              [3,5000]])\n",
    "print(a.shape)\n",
    "print(a)\n",
    "train_mean = np.mean(a, axis=0)\n",
    "train_std = np.std(a, axis=0)\n",
    "a_scaled = (a - train_mean) / train_std\n",
    "print(a_scaled)"
   ]
  },
  {
   "cell_type": "code",
   "execution_count": 60,
   "metadata": {},
   "outputs": [
    {
     "name": "stdout",
     "output_type": "stream",
     "text": [
      "364 91\n"
     ]
    }
   ],
   "source": [
    "import numpy as np\n",
    "import matplotlib.pyplot as plt\n",
    "\n",
    "from sklearn.datasets import load_breast_cancer\n",
    "from sklearn.model_selection import train_test_split\n",
    "cancer = load_breast_cancer()\n",
    "x = cancer.data\n",
    "y = cancer.target\n",
    "x_train_all, x_test, y_train_all, y_test = train_test_split(x, y, stratify=y, \n",
    "                                                            test_size=0.2, random_state=42)\n",
    "\n",
    "x_train, x_val, y_train, y_val = train_test_split(x_train_all, y_train_all, stratify=y_train_all, \n",
    "                                                  test_size=0.2, random_state=42)\n",
    "print(len(x_train), len(x_val))"
   ]
  },
  {
   "cell_type": "code",
   "execution_count": 61,
   "metadata": {},
   "outputs": [],
   "source": [
    "class SingleLayer:\n",
    "    \n",
    "    def __init__(self, learning_rate=0.1, l1=0, l2=0):\n",
    "        self.w = None\n",
    "        self.b = None\n",
    "        self.losses = []\n",
    "        self.val_losses = []\n",
    "        self.w_history = []\n",
    "        self.lr = learning_rate\n",
    "        self.l1 = l1\n",
    "        self.l2 = l2\n",
    "\n",
    "    def forpass(self, x):\n",
    "        z = np.sum(x * self.w) + self.b    # 직선 방정식을 계산합니다\n",
    "        return z\n",
    "\n",
    "    def backprop(self, x, err):\n",
    "        w_grad = x * err          # 가중치에 대한 그래디언트를 계산합니다\n",
    "        b_grad = 1 * err    # 절편에 대한 그래디언트를 계산합니다\n",
    "        return w_grad, b_grad\n",
    "\n",
    "    def activation(self, z):\n",
    "        z = np.clip(z, -100, None) # 안전한 np.exp() 계산을 위해\n",
    "        a = 1 / (1 + np.exp(-z))  # 시그모이드 계산\n",
    "        return a\n",
    "        \n",
    "    def fit(self, x, y, epochs=100, x_val=None, y_val=None):\n",
    "        self.w = np.ones(x.shape[1])               # 가중치를 초기화합니다.\n",
    "        self.b = 0                                 # 절편을 초기화합니다.\n",
    "        self.w_history.append(self.w.copy())       # 가중치를 기록합니다.\n",
    "        np.random.seed(42)                         # 랜덤 시드를 지정합니다.\n",
    "        for i in range(epochs):                    # epochs만큼 반복합니다.\n",
    "            loss = 0\n",
    "            # 인덱스를 섞습니다\n",
    "            indexes = np.random.permutation(np.arange(len(x)))\n",
    "            for i in indexes:                      # 모든 샘플에 대해 반복합니다\n",
    "                z = self.forpass(x[i])             # 정방향 계산\n",
    "                a = self.activation(z)             # 활성화 함수 적용\n",
    "                err = (a - y[i])                  # 오차 계산\n",
    "                w_grad, b_grad = self.backprop(x[i], err) # 역방향 계산\n",
    "                # 그래디언트에서 페널티 항의 미분 값을 더합니다\n",
    "                w_grad += self.l1 * np.sign(self.w) + self.l2 * self.w\n",
    "                self.w -= self.lr * w_grad         # 가중치 업데이트\n",
    "                self.b -= b_grad                   # 절편 업데이트\n",
    "                # 가중치를 기록합니다.\n",
    "                self.w_history.append(self.w.copy())\n",
    "                # 안전한 로그 계산을 위해 클리핑한 후 손실을 누적합니다\n",
    "                a = np.clip(a, 1e-10, 1-1e-10)\n",
    "                loss += -(y[i]*np.log(a)+(1-y[i])*np.log(1-a))\n",
    "            # 에포크마다 평균 손실을 저장합니다\n",
    "            self.losses.append(loss/len(y) + self.reg_loss())\n",
    "            # 검증 세트에 대한 손실을 계산합니다\n",
    "            self.update_val_loss(x_val, y_val)\n",
    "    \n",
    "    def predict(self, x):\n",
    "        z = [self.forpass(x_i) for x_i in x]     # 정방향 계산\n",
    "        return np.array(z) >= 0                   # 스텝 함수 적용\n",
    "    \n",
    "    def score(self, x, y):\n",
    "        return np.mean(self.predict(x) == y)\n",
    "    \n",
    "    def reg_loss(self):\n",
    "        return self.l1 * np.sum(np.abs(self.w)) + self.l2 / 2 * np.sum(self.w**2)\n",
    "    \n",
    "    def update_val_loss(self, x_val, y_val):\n",
    "        if x_val is None:\n",
    "            return\n",
    "        val_loss = 0\n",
    "        for i in range(len(x_val)):\n",
    "            z = self.forpass(x_val[i])     # 정방향 계산\n",
    "            a = self.activation(z)         # 활성화 함수 적용\n",
    "            a = np.clip(a, 1e-10, 1-1e-10)\n",
    "            val_loss += -(y_val[i]*np.log(a)+(1-y_val[i])*np.log(1-a))\n",
    "        self.val_losses.append(val_loss/len(y_val) + self.reg_loss())"
   ]
  },
  {
   "cell_type": "code",
   "execution_count": 62,
   "metadata": {},
   "outputs": [
    {
     "data": {
      "text/plain": [
       "0.9120879120879121"
      ]
     },
     "execution_count": 62,
     "metadata": {},
     "output_type": "execute_result"
    }
   ],
   "source": [
    "layer1 = SingleLayer()\n",
    "layer1.fit(x_train, y_train)\n",
    "layer1.score(x_val, y_val)"
   ]
  },
  {
   "cell_type": "code",
   "execution_count": 63,
   "metadata": {},
   "outputs": [
    {
     "data": {
      "image/png": "[encoded data removed]",
      "text/plain": [
       "<Figure size 432x288 with 1 Axes>"
      ]
     },
     "metadata": {
      "needs_background": "light"
     },
     "output_type": "display_data"
    }
   ],
   "source": [
    "w2 = []\n",
    "w3 = []\n",
    "for w in layer1.w_history:\n",
    "    w2.append(w[2])\n",
    "    w3.append(w[3])\n",
    "plt.plot(w2, w3)\n",
    "plt.plot(w2[-1], w3[-1], 'ro')\n",
    "plt.xlabel('w[2]')\n",
    "plt.ylabel('w[3]')\n",
    "plt.show()"
   ]
  },
  {
   "cell_type": "code",
   "execution_count": 64,
   "metadata": {},
   "outputs": [],
   "source": [
    "train_mean = np.mean(x_train, axis=0)\n",
    "train_std = np.std(x_train, axis=0)\n",
    "x_train_scaled = (x_train - train_mean) / train_std"
   ]
  },
  {
   "cell_type": "code",
   "execution_count": 65,
   "metadata": {},
   "outputs": [],
   "source": [
    "layer2 = SingleLayer()\n",
    "layer2.fit(x_train_scaled, y_train)"
   ]
  },
  {
   "cell_type": "code",
   "execution_count": 66,
   "metadata": {},
   "outputs": [
    {
     "data": {
      "image/png": "[encoded data removed]",
      "text/plain": [
       "<Figure size 432x288 with 1 Axes>"
      ]
     },
     "metadata": {
      "needs_background": "light"
     },
     "output_type": "display_data"
    }
   ],
   "source": [
    "w2 = []\n",
    "w3 = []\n",
    "for w in layer2.w_history:\n",
    "    w2.append(w[2])\n",
    "    w3.append(w[3])\n",
    "plt.plot(w2, w3)\n",
    "plt.plot(w2[-1], w3[-1], 'ro')\n",
    "plt.xlabel('w[2]')\n",
    "plt.ylabel('w[3]')\n",
    "plt.show()"
   ]
  },
  {
   "cell_type": "code",
   "execution_count": 67,
   "metadata": {},
   "outputs": [
    {
     "data": {
      "text/plain": [
       "0.37362637362637363"
      ]
     },
     "execution_count": 67,
     "metadata": {},
     "output_type": "execute_result"
    }
   ],
   "source": [
    "layer2.score(x_val, y_val)"
   ]
  },
  {
   "cell_type": "code",
   "execution_count": 68,
   "metadata": {},
   "outputs": [],
   "source": [
    "val_mean = np.mean(x_val, axis=0)\n",
    "val_std = np.std(x_val, axis=0)\n",
    "x_val_scaled = (x_val - val_mean) / val_std"
   ]
  },
  {
   "cell_type": "code",
   "execution_count": 69,
   "metadata": {},
   "outputs": [
    {
     "data": {
      "text/plain": [
       "0.967032967032967"
      ]
     },
     "execution_count": 69,
     "metadata": {},
     "output_type": "execute_result"
    }
   ],
   "source": [
    "layer2.score(x_val_scaled, y_val)"
   ]
  },
  {
   "cell_type": "code",
   "execution_count": 70,
   "metadata": {},
   "outputs": [],
   "source": [
    "x_val_scaled = (x_val - train_mean) / train_std"
   ]
  },
  {
   "cell_type": "code",
   "execution_count": 71,
   "metadata": {},
   "outputs": [
    {
     "data": {
      "text/plain": [
       "0.967032967032967"
      ]
     },
     "execution_count": 71,
     "metadata": {},
     "output_type": "execute_result"
    }
   ],
   "source": [
    "layer2.score(x_val_scaled, y_val)"
   ]
  },
  {
   "cell_type": "code",
   "execution_count": 72,
   "metadata": {},
   "outputs": [
    {
     "data": {
      "image/png": "[encoded data removed]",
      "text/plain": [
       "<Figure size 432x288 with 1 Axes>"
      ]
     },
     "metadata": {
      "needs_background": "light"
     },
     "output_type": "display_data"
    }
   ],
   "source": [
    "layer3 = SingleLayer()\n",
    "layer3.fit(x_train_scaled, y_train, x_val=x_val_scaled, y_val=y_val)\n",
    "plt.ylim(0, 0.3)\n",
    "plt.plot(layer3.losses)\n",
    "plt.plot(layer3.val_losses)\n",
    "plt.ylabel('loss')\n",
    "plt.xlabel('epoch')\n",
    "plt.legend(['train_loss', 'val_loss'])\n",
    "plt.show()"
   ]
  },
  {
   "cell_type": "code",
   "execution_count": 73,
   "metadata": {},
   "outputs": [
    {
     "data": {
      "text/plain": [
       "0.978021978021978"
      ]
     },
     "execution_count": 73,
     "metadata": {},
     "output_type": "execute_result"
    }
   ],
   "source": [
    "layer4 = SingleLayer()\n",
    "layer4.fit(x_train_scaled, y_train, epochs=20)\n",
    "layer4.score(x_val_scaled, y_val)"
   ]
  },
  {
   "cell_type": "code",
   "execution_count": 74,
   "metadata": {},
   "outputs": [
    {
     "data": {
      "image/png": "[encoded data removed]",
      "text/plain": [
       "<Figure size 432x288 with 1 Axes>"
      ]
     },
     "metadata": {
      "needs_background": "light"
     },
     "output_type": "display_data"
    },
    {
     "data": {
      "image/png": "[encoded data removed]",
      "text/plain": [
       "<Figure size 432x288 with 1 Axes>"
      ]
     },
     "metadata": {
      "needs_background": "light"
     },
     "output_type": "display_data"
    },
    {
     "data": {
      "image/png": "[encoded data removed]",
      "text/plain": [
       "<Figure size 432x288 with 1 Axes>"
      ]
     },
     "metadata": {
      "needs_background": "light"
     },
     "output_type": "display_data"
    },
    {
     "data": {
      "image/png": "[encoded data removed]",
      "text/plain": [
       "<Figure size 432x288 with 1 Axes>"
      ]
     },
     "metadata": {
      "needs_background": "light"
     },
     "output_type": "display_data"
    },
    {
     "data": {
      "image/png": "[encoded data removed]",
      "text/plain": [
       "<Figure size 432x288 with 1 Axes>"
      ]
     },
     "metadata": {
      "needs_background": "light"
     },
     "output_type": "display_data"
    },
    {
     "data": {
      "image/png": "[encoded data removed]",
      "text/plain": [
       "<Figure size 432x288 with 1 Axes>"
      ]
     },
     "metadata": {
      "needs_background": "light"
     },
     "output_type": "display_data"
    }
   ],
   "source": [
    "l1_list = [0.0001, 0.001, 0.01]\n",
    "\n",
    "for l1 in l1_list:\n",
    "    lyr = SingleLayer(l1=l1)\n",
    "    lyr.fit(x_train_scaled, y_train, x_val=x_val_scaled, y_val=y_val)\n",
    "    \n",
    "    plt.plot(lyr.losses)\n",
    "    plt.plot(lyr.val_losses)\n",
    "    plt.title('Learning Curve (l1={})'.format(l1))\n",
    "    plt.ylabel('loss')\n",
    "    plt.xlabel('epoch')\n",
    "    plt.legend(['train_loss', 'val_loss'])\n",
    "    plt.ylim(0, 0.3)\n",
    "    plt.show()\n",
    "    \n",
    "    plt.plot(lyr.w, 'bo')\n",
    "    plt.title('Weight (l1={})'.format(l1))\n",
    "    plt.ylabel('value')\n",
    "    plt.xlabel('weight')\n",
    "    plt.ylim(-4, 4)\n",
    "    plt.show()"
   ]
  },
  {
   "cell_type": "code",
   "execution_count": 75,
   "metadata": {},
   "outputs": [
    {
     "data": {
      "image/png": "[encoded data removed]",
      "text/plain": [
       "<Figure size 432x288 with 1 Axes>"
      ]
     },
     "metadata": {
      "needs_background": "light"
     },
     "output_type": "display_data"
    },
    {
     "data": {
      "image/png": "[encoded data removed]",
      "text/plain": [
       "<Figure size 432x288 with 1 Axes>"
      ]
     },
     "metadata": {
      "needs_background": "light"
     },
     "output_type": "display_data"
    },
    {
     "data": {
      "image/png": "[encoded data removed]",
      "text/plain": [
       "<Figure size 432x288 with 1 Axes>"
      ]
     },
     "metadata": {
      "needs_background": "light"
     },
     "output_type": "display_data"
    },
    {
     "data": {
      "image/png": "[encoded data removed]",
      "text/plain": [
       "<Figure size 432x288 with 1 Axes>"
      ]
     },
     "metadata": {
      "needs_background": "light"
     },
     "output_type": "display_data"
    },
    {
     "data": {
      "image/png": "[encoded data removed]",
      "text/plain": [
       "<Figure size 432x288 with 1 Axes>"
      ]
     },
     "metadata": {
      "needs_background": "light"
     },
     "output_type": "display_data"
    },
    {
     "data": {
      "image/png": "[encoded data removed]",
      "text/plain": [
       "<Figure size 432x288 with 1 Axes>"
      ]
     },
     "metadata": {
      "needs_background": "light"
     },
     "output_type": "display_data"
    }
   ],
   "source": [
    "l2_list = [0.0001, 0.001, 0.01]\n",
    "\n",
    "for l2 in l2_list:\n",
    "    lyr = SingleLayer(l2=l2)\n",
    "    lyr.fit(x_train_scaled, y_train, x_val=x_val_scaled, y_val=y_val)\n",
    "    \n",
    "    plt.plot(lyr.losses)\n",
    "    plt.plot(lyr.val_losses)\n",
    "    plt.title('Learning Curve (l2={})'.format(l2))\n",
    "    plt.ylabel('loss')\n",
    "    plt.xlabel('epoch')\n",
    "    plt.legend(['train_loss', 'val_loss'])\n",
    "    plt.ylim(0, 0.3)\n",
    "    plt.show()\n",
    "    \n",
    "    plt.plot(lyr.w, 'bo')\n",
    "    plt.title('Weight (l2={})'.format(l2))\n",
    "    plt.ylabel('value')\n",
    "    plt.xlabel('weight')\n",
    "    plt.ylim(-4, 4)\n",
    "    plt.show()"
   ]
  },
  {
   "cell_type": "code",
   "execution_count": 85,
   "metadata": {},
   "outputs": [
    {
     "name": "stdout",
     "output_type": "stream",
     "text": [
      "range(0, 10)\n",
      "0 1 2 3 4 5 6 7 8 9 \n",
      "[0, 1, 2, 3, 4, 5, 6, 7, 8, 9]\n",
      "hello world\n",
      "[0, 1, 2, 6, 7, 8]\n",
      "[1 2 3 7 8 9]\n"
     ]
    }
   ],
   "source": [
    "print(range(10))\n",
    "for i in range(10):\n",
    "    print(i, end=\" \")\n",
    "    \n",
    "print()\n",
    "l1 = list(range(10))\n",
    "print(l1)\n",
    "\n",
    "a = 'hello '\n",
    "b = 'world'\n",
    "print(a+b)\n",
    "\n",
    "array = np.array([1,2,3,4,5,6,7,8,9])\n",
    "a= [0,1,2]\n",
    "b= [6,7,8]\n",
    "index = a+b\n",
    "print(index)\n",
    "print(array[index])  # a[ [0,1,2,6,7,8] ]"
   ]
  },
  {
   "cell_type": "code",
   "execution_count": 90,
   "metadata": {},
   "outputs": [
    {
     "name": "stdout",
     "output_type": "stream",
     "text": [
      "[100 101 102 103 104 105 106 107 108 109 110 111 112 113 114 115 116 117\n",
      " 118 119 120 121 122 123 124 125 126 127 128 129 130 131 132 133 134 135\n",
      " 136 137 138 139 140 141 142 143 144 145 146 147 148 149 150 151 152 153\n",
      " 154 155 156 157 158 159 160 161 162 163 164 165 166 167 168 169 170 171\n",
      " 172 173 174 175 176 177 178 179 180 181 182 183 184 185 186 187 188 189\n",
      " 190 191 192 193 194 195 196 197 198 199]\n",
      "[110 111 112 113 114 115 116 117 118 119]\n",
      "[0, 1, 2, 3, 4, 5, 6, 7, 8, 9, 20, 21, 22, 23, 24, 25, 26, 27, 28, 29, 30, 31, 32, 33, 34, 35, 36, 37, 38, 39, 40, 41, 42, 43, 44, 45, 46, 47, 48, 49, 50, 51, 52, 53, 54, 55, 56, 57, 58, 59, 60, 61, 62, 63, 64, 65, 66, 67, 68, 69, 70, 71, 72, 73, 74, 75, 76, 77, 78, 79, 80, 81, 82, 83, 84, 85, 86, 87, 88, 89, 90, 91, 92, 93, 94, 95, 96, 97, 98, 99]\n",
      "[100 101 102 103 104 105 106 107 108 109 120 121 122 123 124 125 126 127\n",
      " 128 129 130 131 132 133 134 135 136 137 138 139 140 141 142 143 144 145\n",
      " 146 147 148 149 150 151 152 153 154 155 156 157 158 159 160 161 162 163\n",
      " 164 165 166 167 168 169 170 171 172 173 174 175 176 177 178 179 180 181\n",
      " 182 183 184 185 186 187 188 189 190 191 192 193 194 195 196 197 198 199]\n"
     ]
    }
   ],
   "source": [
    "a = np.arange(100,200)\n",
    "print(a)\n",
    "start=10\n",
    "end = 20\n",
    "val = a[start:end]\n",
    "print(val)\n",
    "index = list(range(0, start))+list(range(end, len(a)))\n",
    "print(index)\n",
    "# # # # b = list(a)\n",
    "fold = a[np.array(index)]\n",
    "print(fold)\n",
    "# fold[0] = 999\n",
    "# print(fold)\n",
    "# print(a)\n",
    "\n"
   ]
  },
  {
   "cell_type": "code",
   "execution_count": 91,
   "metadata": {},
   "outputs": [
    {
     "name": "stdout",
     "output_type": "stream",
     "text": [
      "(455, 30)\n",
      "45\n",
      "0.9711111111111113\n"
     ]
    }
   ],
   "source": [
    "print(x_train_all.shape)\n",
    "validation_scores = []\n",
    "k = 10\n",
    "bins = len(x_train_all) // k\n",
    "print(bins)\n",
    "for i in range(k):\n",
    "    start = i*bins\n",
    "    end = (i+1)*bins\n",
    "    val_fold = x_train_all[start:end]\n",
    "    val_target = y_train_all[start:end]\n",
    "    \n",
    "    train_index = list(range(0, start))+list(range(end, len(x_train)))\n",
    "    train_fold = x_train_all[train_index]\n",
    "    train_target = y_train_all[train_index]\n",
    "    train_mean = np.mean(train_fold, axis=0)\n",
    "    train_std = np.std(train_fold, axis=0)\n",
    "    train_fold_scaled = (train_fold - train_mean) / train_std\n",
    "    val_fold_scaled = (val_fold - train_mean) / train_std\n",
    "    \n",
    "    lyr = SingleLayer(l2=0.01)\n",
    "    lyr.fit(train_fold_scaled, train_target, epochs=50)\n",
    "    score = lyr.score(val_fold_scaled, val_target)\n",
    "    validation_scores.append(score)\n",
    "\n",
    "print(np.mean(validation_scores))"
   ]
  },
  {
   "cell_type": "code",
   "execution_count": null,
   "metadata": {},
   "outputs": [],
   "source": []
  }
 ],
 "metadata": {
  "kernelspec": {
   "display_name": "Python 3",
   "language": "python",
   "name": "python3"
  },
  "language_info": {
   "codemirror_mode": {
    "name": "ipython",
    "version": 3
   },
   "file_extension": ".py",
   "mimetype": "text/x-python",
   "name": "python",
   "nbconvert_exporter": "python",
   "pygments_lexer": "ipython3",
   "version": "3.8.8"
  }
 },
 "nbformat": 4,
 "nbformat_minor": 4
}
