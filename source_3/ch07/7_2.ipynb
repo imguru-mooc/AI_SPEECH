{
 "cells": [
  {
   "cell_type": "markdown",
   "metadata": {},
   "source": [
    "### seq2seq"
   ]
  },
  {
   "cell_type": "code",
   "execution_count": 15,
   "metadata": {},
   "outputs": [
    {
     "name": "stdout",
     "output_type": "stream",
     "text": [
      "['16+75  ', '52+607 ', '75+22  ', '63+22  ', '795+3  ', '706+796', '8+4    ', '84+317 ', '9+3    ', '6+2    ']\n",
      "['_91  ', '_659 ', '_97  ', '_85  ', '_798 ', '_1502', '_12  ', '_401 ', '_12  ', '_8   ']\n",
      "{'1': 0, '6': 1, '+': 2, '7': 3, '5': 4, ' ': 5, '_': 6, '9': 7, '2': 8, '0': 9, '3': 10, '8': 11, '4': 12}\n",
      "{0: '1', 1: '6', 2: '+', 3: '7', 4: '5', 5: ' ', 6: '_', 7: '9', 8: '2', 9: '0', 10: '3', 11: '8', 12: '4'}\n"
     ]
    }
   ],
   "source": [
    "id_to_char = {}\n",
    "char_to_id = {}\n",
    "\n",
    "def _update_vocab(txt):\n",
    "#     print(txt)\n",
    "    chars = list(txt)\n",
    "#     print(chars)\n",
    "    for i, char in enumerate(chars):\n",
    "        if char not in char_to_id:\n",
    "            tmp_id = len(char_to_id)\n",
    "            char_to_id[char] = tmp_id\n",
    "            id_to_char[tmp_id] = char\n",
    "\n",
    "questions = []\n",
    "answers = []\n",
    "i=0\n",
    "for line in open(\"../dataset/addition.txt\", 'r'):\n",
    "#     print(line)\n",
    "    idx = line.find('_')\n",
    "#     print(idx)\n",
    "#     print(line[:idx])\n",
    "    questions.append(line[:idx])\n",
    "#     print(questions)\n",
    "#     print(line[idx:-1])\n",
    "    answers.append(line[idx:-1])\n",
    "#     print(answers)\n",
    "    \n",
    "    i += 1\n",
    "    if i >= 10:\n",
    "        break\n",
    "        \n",
    "print(questions)   \n",
    "print(answers)\n",
    "\n",
    "    # 어휘 사전 생성\n",
    "for i in range(len(questions)):\n",
    "    q, a = questions[i], answers[i]\n",
    "    _update_vocab(q)\n",
    "    _update_vocab(a)\n",
    "\n",
    "print(char_to_id)\n",
    "print(id_to_char)"
   ]
  },
  {
   "cell_type": "code",
   "execution_count": 16,
   "metadata": {},
   "outputs": [
    {
     "name": "stdout",
     "output_type": "stream",
     "text": [
      "{'1': 0, '6': 1, '+': 2, '7': 3, '5': 4, ' ': 5, '_': 6, '9': 7, '2': 8, '0': 9, '3': 10, '8': 11, '4': 12}\n",
      "(45000, 7) (45000, 5)\n",
      "(5000, 7) (5000, 5)\n",
      "[ 3  0  2  0  0 11  5]\n",
      "[ 6  0 11  7  5]\n",
      "71+118 \n",
      "_189 \n"
     ]
    }
   ],
   "source": [
    "# coding: utf-8\n",
    "import sys\n",
    "sys.path.append('..')\n",
    "from dataset import sequence\n",
    "\n",
    "\n",
    "(x_train, t_train), (x_test, t_test) = \\\n",
    "    sequence.load_data('addition.txt', seed=1984)\n",
    "char_to_id, id_to_char = sequence.get_vocab()\n",
    "\n",
    "print(char_to_id)\n",
    "print(x_train.shape, t_train.shape)\n",
    "print(x_test.shape, t_test.shape)\n",
    "# (45000, 7) (45000, 5)\n",
    "# (5000, 7) (5000, 5)\n",
    "\n",
    "print(x_train[0])\n",
    "print(t_train[0])\n",
    "# [ 3  0  2  0  0 11  5]\n",
    "# [ 6  0 11  7  5]\n",
    "\n",
    "print(''.join([id_to_char[c] for c in x_train[0]]))\n",
    "print(''.join([id_to_char[c] for c in t_train[0]]))\n",
    "# 71+118\n",
    "# _189"
   ]
  },
  {
   "cell_type": "code",
   "execution_count": null,
   "metadata": {},
   "outputs": [],
   "source": []
  }
 ],
 "metadata": {
  "kernelspec": {
   "display_name": "Python 3",
   "language": "python",
   "name": "python3"
  },
  "language_info": {
   "codemirror_mode": {
    "name": "ipython",
    "version": 3
   },
   "file_extension": ".py",
   "mimetype": "text/x-python",
   "name": "python",
   "nbconvert_exporter": "python",
   "pygments_lexer": "ipython3",
   "version": "3.8.8"
  }
 },
 "nbformat": 4,
 "nbformat_minor": 4
}
